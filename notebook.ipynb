{
 "cells": [
  {
   "cell_type": "code",
   "execution_count": 2,
   "metadata": {},
   "outputs": [],
   "source": [
    "from gremlin_python.process.anonymous_traversal import traversal\n",
    "from gremlin_python.driver.driver_remote_connection import DriverRemoteConnection\n",
    "from gremlin_python.driver.aiohttp.transport import AiohttpTransport\n",
    "\n",
    "connection = DriverRemoteConnection( \"ws://localhost:8182/gremlin\", 'g',\n",
    "                                    transport_factory=lambda:AiohttpTransport(call_from_event_loop=True))\n",
    "g = traversal().withRemote(connection)"
   ]
  },
  {
   "cell_type": "code",
   "execution_count": 4,
   "metadata": {},
   "outputs": [
    {
     "data": {
      "text/plain": [
       "[{<T.id: 1>: {'@type': 'janusgraph:RelationIdentifier',\n",
       "   '@value': {'relationId': '1q802-368-f11-38o'}},\n",
       "  <T.label: 4>: 'route',\n",
       "  <Direction.IN: 2>: {<T.id: 1>: 4200, <T.label: 4>: 'airport'},\n",
       "  <Direction.OUT: 3>: {<T.id: 1>: 4112, <T.label: 4>: 'airport'},\n",
       "  'dist': '630'}]"
      ]
     },
     "execution_count": 4,
     "metadata": {},
     "output_type": "execute_result"
    }
   ],
   "source": [
    "g.V().has('code', 'BNA').as_(\"source_no\").outE().limit(1).elementMap().toList()"
   ]
  }
 ],
 "metadata": {
  "kernelspec": {
   "display_name": "query-builder-EE7shD6S",
   "language": "python",
   "name": "python3"
  },
  "language_info": {
   "codemirror_mode": {
    "name": "ipython",
    "version": 3
   },
   "file_extension": ".py",
   "mimetype": "text/x-python",
   "name": "python",
   "nbconvert_exporter": "python",
   "pygments_lexer": "ipython3",
   "version": "3.12.0"
  }
 },
 "nbformat": 4,
 "nbformat_minor": 2
}
