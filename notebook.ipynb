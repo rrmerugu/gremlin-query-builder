{
 "cells": [
  {
   "cell_type": "code",
   "execution_count": 1,
   "metadata": {},
   "outputs": [
    {
     "name": "stdout",
     "output_type": "stream",
     "text": [
      "Graphsearch is using gremlinpython==3.5.1\n"
     ]
    }
   ],
   "source": [
    "from gremlin_python.driver.aiohttp.transport import AiohttpTransport\n",
    "from graph_search.graph_search import GraphSearch, __\n",
    "\n",
    "\n",
    "graph_search = GraphSearch( \"ws://localhost:8182/gremlin\", \n",
    "                    transport_factory=lambda:AiohttpTransport(call_from_event_loop=True))\n"
   ]
  },
  {
   "cell_type": "code",
   "execution_count": 2,
   "metadata": {},
   "outputs": [
    {
     "data": {
      "text/plain": [
       "[<Node:airport id=\"4112\" date= country=US code=BNA longest=11030 city=Nashville author= lon=-86.6781997680664 type=airport elev=599 icao=KBNA region=US-TN runways=4 lat=36.1245002746582 desc=Nashville International Airport >]"
      ]
     },
     "execution_count": 2,
     "metadata": {},
     "output_type": "execute_result"
    }
   ],
   "source": [
    "graph_search.graph.V().has('code', 'BNA').limit(1).elementMap().toList()"
   ]
  },
  {
   "cell_type": "code",
   "execution_count": 3,
   "metadata": {},
   "outputs": [
    {
     "data": {
      "text/plain": [
       "[{'nodes': <Node:airport id=\"4112\" date= country=US code=BNA longest=11030 city=Nashville author= lon=-86.6781997680664 type=airport elev=599 icao=KBNA region=US-TN runways=4 lat=36.1245002746582 desc=Nashville International Airport >,\n",
       "  'out_e': <RelationShip:route id=\"1q802-368-f11-38o\" 4112:airport -> route -> 4200:airport dist=630 >,\n",
       "  'in_e': <RelationShip:route id=\"1t6od-38o-f11-368\" 4200:airport -> route -> 4112:airport dist=630 >}]"
      ]
     },
     "execution_count": 3,
     "metadata": {},
     "output_type": "execute_result"
    }
   ],
   "source": [
    "# graph_search.graph.V().has('code', 'BNA').inE().toList()\n",
    "\n",
    "# get nodes, out_e, in_e\n",
    "graph_search.graph.V().has('code', 'BNA').as_('node') \\\n",
    ".project('nodes','out_e', 'in_e') \\\n",
    ".by(__.as_(\"node\")) \\\n",
    ".by(__.outE()) \\\n",
    ".by(__.inE()) \\\n",
    ".toList()"
   ]
  },
  {
   "cell_type": "code",
   "execution_count": 4,
   "metadata": {},
   "outputs": [
    {
     "data": {
      "text/plain": [
       "[{'v': 4112, 'e': 73}, {'v': 8208, 'e': 156}, {'v': 12304, 'e': 155}]"
      ]
     },
     "execution_count": 4,
     "metadata": {},
     "output_type": "execute_result"
    }
   ],
   "source": [
    "# get nodes and their `outE` counts \n",
    "graph_search.graph.V().limit(3).project('v','e').by(__.id()).by(__.outE().count()).toList()"
   ]
  },
  {
   "cell_type": "code",
   "execution_count": 5,
   "metadata": {},
   "outputs": [
    {
     "data": {
      "text/plain": [
       "[{'v': 4112, 'e': True}, {'v': 8208, 'e': True}]"
      ]
     },
     "execution_count": 5,
     "metadata": {},
     "output_type": "execute_result"
    }
   ],
   "source": [
    "# get nodes and if there are any `outE` edges \n",
    "graph_search.graph.V().limit(2) \\\n",
    ".project('v','e') \\\n",
    ".by(__.id()).by(__.coalesce(__.outE().limit(1).constant(True),__.constant(False))).toList()"
   ]
  },
  {
   "cell_type": "code",
   "execution_count": 6,
   "metadata": {},
   "outputs": [
    {
     "data": {
      "text/plain": [
       "[path[<Node:airport id=\"4112\" date= country=US code=BNA longest=11030 city=Nashville author= lon=-86.6781997680664 type=airport elev=599 icao=KBNA region=US-TN runways=4 lat=36.1245002746582 desc=Nashville International Airport >, <RelationShip:route id=\"1q802-368-f11-38o\" 4112:airport -> route -> 4200:airport dist=630 >, <Node:airport id=\"4200\" date= country=US code=DFW longest=13401 city=Dallas author= lon=-97.0380020141602 type=airport elev=607 icao=KDFW region=US-TX runways=7 lat=32.896800994873 desc=Dallas/Fort Worth International Airport >],\n",
       " path[<Node:airport id=\"4112\" date= country=US code=BNA longest=11030 city=Nashville author= lon=-86.6781997680664 type=airport elev=599 icao=KBNA region=US-TN runways=4 lat=36.1245002746582 desc=Nashville International Airport >, <RelationShip:route id=\"1q96q-368-f11-38w\" 4112:airport -> route -> 4208:airport dist=657 >, <Node:airport id=\"4208\" date= country=US code=IAH longest=12001 city=Houston author= lon=-95.3414001464844 type=airport elev=96 icao=KIAH region=US-TX runways=5 lat=29.9843997955322 desc=George Bush Intercontinental >],\n",
       " path[<Node:airport id=\"4112\" date= country=US code=BNA longest=11030 city=Nashville author= lon=-86.6781997680664 type=airport elev=599 icao=KBNA region=US-TN runways=4 lat=36.1245002746582 desc=Nashville International Airport >, <RelationShip:route id=\"1qebm-368-f11-394\" 4112:airport -> route -> 4216:airport dist=1746 >, <Node:airport id=\"4216\" date= country=US code=SAN longest=9400 city=San Diego author= lon=-117.190002441 type=airport elev=16 icao=KSAN region=US-CA runways=1 lat=32.7336006165 desc=San Diego Lindbergh >],\n",
       " path[<Node:airport id=\"4112\" date= country=US code=BNA longest=11030 city=Nashville author= lon=-86.6781997680664 type=airport elev=599 icao=KBNA region=US-TN runways=4 lat=36.1245002746582 desc=Nashville International Airport >, <RelationShip:route id=\"1q6f6-368-f11-39k\" 4112:airport -> route -> 4232:airport dist=755 >, <Node:airport id=\"4232\" date= country=US code=AUS longest=12250 city=Austin author= lon=-97.6698989868164 type=airport elev=542 icao=KAUS region=US-TX runways=2 lat=30.1944999694824 desc=Austin Bergstrom International Airport >],\n",
       " path[<Node:airport id=\"4112\" date= country=US code=BNA longest=11030 city=Nashville author= lon=-86.6781997680664 type=airport elev=599 icao=KBNA region=US-TN runways=4 lat=36.1245002746582 desc=Nashville International Airport >, <RelationShip:route id=\"1qade-368-f11-3bc\" 4112:airport -> route -> 4296:airport dist=762 >, <Node:airport id=\"4296\" date= country=US code=LGA longest=7003 city=New York author= lon=-73.87259674 type=airport elev=20 icao=KLGA region=US-NY runways=2 lat=40.77719879 desc=New York La Guardia >],\n",
       " path[<Node:airport id=\"4112\" date= country=US code=BNA longest=11030 city=Nashville author= lon=-86.6781997680664 type=airport elev=599 icao=KBNA region=US-TN runways=4 lat=36.1245002746582 desc=Nashville International Airport >, <RelationShip:route id=\"1q77m-368-f11-3bk\" 4112:airport -> route -> 4304:airport dist=586 >, <Node:airport id=\"4304\" date= country=US code=BWI longest=10502 city=Baltimore author= lon=-76.66829681 type=airport elev=143 icao=KBWI region=US-MD runways=3 lat=39.17539978 desc=Baltimore/Washington International Airport >],\n",
       " path[<Node:airport id=\"4112\" date= country=US code=BNA longest=11030 city=Nashville author= lon=-86.6781997680664 type=airport elev=599 icao=KBNA region=US-TN runways=4 lat=36.1245002746582 desc=Nashville International Airport >, <RelationShip:route id=\"1qbk2-368-f11-6c0\" 4112:airport -> route -> 8208:airport dist=694 >, <Node:airport id=\"8208\" date= country=US code=MSP longest=11006 city=Minneapolis author= lon=-93.2218017578 type=airport elev=841 icao=KMSP region=US-MN runways=4 lat=44.8819999695 desc=Minneapolis-St.Paul International Airport >],\n",
       " path[<Node:airport id=\"4112\" date= country=US code=BNA longest=11030 city=Nashville author= lon=-86.6781997680664 type=airport elev=599 icao=KBNA region=US-TN runways=4 lat=36.1245002746582 desc=Nashville International Airport >, <RelationShip:route id=\"1q60y-368-f11-6dk\" 4112:airport -> route -> 8264:airport dist=214 >, <Node:airport id=\"8264\" date= country=US code=ATL longest=12390 city=Atlanta author= lon=-84.4281005859375 type=airport elev=1026 icao=KATL region=US-GA runways=5 lat=33.6366996765137 desc=Hartsfield - Jackson Atlanta International Airport >],\n",
       " path[<Node:airport id=\"4112\" date= country=US code=BNA longest=11030 city=Nashville author= lon=-86.6781997680664 type=airport elev=599 icao=KBNA region=US-TN runways=4 lat=36.1245002746582 desc=Nashville International Airport >, <RelationShip:route id=\"1q7lu-368-f11-6ds\" 4112:airport -> route -> 8272:airport dist=560 >, <Node:airport id=\"8272\" date= country=US code=DCA longest=7169 city=Washington D.C. author= lon=-77.0376968383789 type=airport elev=14 icao=KDCA region=US-DC runways=3 lat=38.8521003723145 desc=Ronald Reagan Washington National Airport >],\n",
       " path[<Node:airport id=\"4112\" date= country=US code=BNA longest=11030 city=Nashville author= lon=-86.6781997680664 type=airport elev=599 icao=KBNA region=US-TN runways=4 lat=36.1245002746582 desc=Nashville International Airport >, <RelationShip:route id=\"1q9z6-368-f11-6eg\" 4112:airport -> route -> 8296:airport dist=1790 >, <Node:airport id=\"8296\" date= country=US code=LAX longest=12091 city=Los Angeles author= lon=-118.4079971 type=airport elev=127 icao=KLAX region=US-CA runways=4 lat=33.94250107 desc=Los Angeles International Airport >],\n",
       " path[<Node:airport id=\"4112\" date= country=US code=BNA longest=11030 city=Nashville author= lon=-86.6781997680664 type=airport elev=599 icao=KBNA region=US-TN runways=4 lat=36.1245002746582 desc=Nashville International Airport >, <RelationShip:route id=\"1qbya-368-f11-6eo\" 4112:airport -> route -> 8304:airport dist=409 >, <Node:airport id=\"8304\" date= country=US code=ORD longest=13000 city=Chicago author= lon=-87.90480042 type=airport elev=672 icao=KORD region=US-IL runways=7 lat=41.97859955 desc=Chicago O'Hare International Airport >],\n",
       " path[<Node:airport id=\"4112\" date= country=US code=BNA longest=11030 city=Nashville author= lon=-86.6781997680664 type=airport elev=599 icao=KBNA region=US-TN runways=4 lat=36.1245002746582 desc=Nashville International Airport >, <RelationShip:route id=\"1q6te-368-f11-6fc\" 4112:airport -> route -> 8328:airport dist=939 >, <Node:airport id=\"8328\" date= country=US code=BOS longest=10083 city=Boston author= lon=-71.00520325 type=airport elev=19 icao=KBOS region=US-MA runways=6 lat=42.36429977 desc=Boston Logan >],\n",
       " path[<Node:airport id=\"4112\" date= country=US code=BNA longest=11030 city=Nashville author= lon=-86.6781997680664 type=airport elev=599 icao=KBNA region=US-TN runways=4 lat=36.1245002746582 desc=Nashville International Airport >, <RelationShip:route id=\"1q8ea-368-f11-6hc\" 4112:airport -> route -> 8400:airport dist=793 >, <Node:airport id=\"8400\" date= country=US code=FLL longest=9000 city=Fort Lauderdale author= lon=-80.152702331543 type=airport elev=64 icao=KFLL region=US-FL runways=2 lat=26.0725994110107 desc=Fort Lauderdale/Hollywood International Airport >],\n",
       " path[<Node:airport id=\"4112\" date= country=US code=BNA longest=11030 city=Nashville author= lon=-86.6781997680664 type=airport elev=599 icao=KBNA region=US-TN runways=4 lat=36.1245002746582 desc=Nashville International Airport >, <RelationShip:route id=\"1qdj6-368-f11-9hs\" 4112:airport -> route -> 12304:airport dist=1963 >, <Node:airport id=\"12304\" date= country=US code=SFO longest=11870 city=San Francisco author= lon=-122.375 type=airport elev=13 icao=KSFO region=US-CA runways=4 lat=37.6189994812012 desc=San Francisco International Airport >],\n",
       " path[<Node:airport id=\"4112\" date= country=US code=BNA longest=11030 city=Nashville author= lon=-86.6781997680664 type=airport elev=599 icao=KBNA region=US-TN runways=4 lat=36.1245002746582 desc=Nashville International Airport >, <RelationShip:route id=\"1q8si-368-f11-9jc\" 4112:airport -> route -> 12360:airport dist=540 >, <Node:airport id=\"12360\" date= country=US code=IAD longest=11500 city=Washington D.C. author= lon=-77.45580292 type=airport elev=313 icao=KIAD region=US-VA runways=4 lat=38.94449997 desc=Washington Dulles International Airport >],\n",
       " path[<Node:airport id=\"4112\" date= country=US code=BNA longest=11030 city=Nashville author= lon=-86.6781997680664 type=airport elev=599 icao=KBNA region=US-TN runways=4 lat=36.1245002746582 desc=Nashville International Airport >, <RelationShip:route id=\"1qarm-368-f11-9jk\" 4112:airport -> route -> 12368:airport dist=616 >, <Node:airport id=\"12368\" date= country=US code=MCO longest=12005 city=Orlando author= lon=-81.3089981079102 type=airport elev=96 icao=KMCO region=US-FL runways=4 lat=28.4293994903564 desc=Orlando International Airport >],\n",
       " path[<Node:airport id=\"4112\" date= country=US code=BNA longest=11030 city=Nashville author= lon=-86.6781997680664 type=airport elev=599 icao=KBNA region=US-TN runways=4 lat=36.1245002746582 desc=Nashville International Airport >, <RelationShip:route id=\"1qi9u-368-f11-9kg\" 4112:airport -> route -> 12400:airport dist=1953 >, <Node:airport id=\"12400\" date= country=US code=OAK longest=10520 city=Oakland author= lon=-122.221000671387 type=airport elev=9 icao=KOAK region=US-CA runways=4 lat=37.7212982177734 desc=Oakland >],\n",
       " path[<Node:airport id=\"4112\" date= country=US code=BNA longest=11030 city=Nashville author= lon=-86.6781997680664 type=airport elev=599 icao=KBNA region=US-TN runways=4 lat=36.1245002746582 desc=Nashville International Airport >, <RelationShip:route id=\"1qio2-368-f11-9mw\" 4112:airport -> route -> 12488:airport dist=674 >, <Node:airport id=\"12488\" date= country=US code=PHL longest=10506 city=Philadelphia author= lon=-75.241096496582 type=airport elev=36 icao=KPHL region=US-PA runways=4 lat=39.871898651123 desc=Philadelphia International Airport >],\n",
       " path[<Node:airport id=\"4112\" date= country=US code=BNA longest=11030 city=Nashville author= lon=-86.6781997680664 type=airport elev=599 icao=KBNA region=US-TN runways=4 lat=36.1245002746582 desc=Nashville International Airport >, <RelationShip:route id=\"1qhhe-368-f11-9n4\" 4112:airport -> route -> 12496:airport dist=669 >, <Node:airport id=\"12496\" date= country=US code=HOU longest=7602 city=Houston author= lon=-95.27890015 type=airport elev=46 icao=KHOU region=US-TX runways=4 lat=29.64539909 desc=Houston Hobby >],\n",
       " path[<Node:airport id=\"4112\" date= country=US code=BNA longest=11030 city=Nashville author= lon=-86.6781997680664 type=airport elev=599 icao=KBNA region=US-TN runways=4 lat=36.1245002746582 desc=Nashville International Airport >, <RelationShip:route id=\"1qdxe-368-f11-cnk\" 4112:airport -> route -> 16400:airport dist=612 >, <Node:airport id=\"16400\" date= country=US code=TPA longest=11002 city=Tampa author= lon=-82.533203125 type=airport elev=26 icao=KTPA region=US-FL runways=3 lat=27.9755001068115 desc=Tampa International Airport >],\n",
       " path[<Node:airport id=\"4112\" date= country=US code=BNA longest=11030 city=Nashville author= lon=-86.6781997680664 type=airport elev=599 icao=KBNA region=US-TN runways=4 lat=36.1245002746582 desc=Nashville International Airport >, <RelationShip:route id=\"1q9ky-368-f11-cp4\" 4112:airport -> route -> 16456:airport dist=763 >, <Node:airport id=\"16456\" date= country=US code=JFK longest=14511 city=New York author= lon=-73.77890015 type=airport elev=12 icao=KJFK region=US-NY runways=4 lat=40.63980103 desc=New York John F. Kennedy International Airport >],\n",
       " path[<Node:airport id=\"4112\" date= country=US code=BNA longest=11030 city=Nashville author= lon=-86.6781997680664 type=airport elev=599 icao=KBNA region=US-TN runways=4 lat=36.1245002746582 desc=Nashville International Airport >, <RelationShip:route id=\"1qd4y-368-f11-cpc\" 4112:airport -> route -> 16464:airport dist=1972 >, <Node:airport id=\"16464\" date= country=US code=SEA longest=11901 city=Seattle author= lon=-122.30899810791 type=airport elev=432 icao=KSEA region=US-WA runways=3 lat=47.4490013122559 desc=Seattle-Tacoma >],\n",
       " path[<Node:airport id=\"4112\" date= country=US code=BNA longest=11030 city=Nashville author= lon=-86.6781997680664 type=airport elev=599 icao=KBNA region=US-TN runways=4 lat=36.1245002746582 desc=Nashville International Airport >, <RelationShip:route id=\"1qepu-368-f11-cq0\" 4112:airport -> route -> 16488:airport dist=1400 >, <Node:airport id=\"16488\" date= country=US code=SLC longest=12002 city=Salt Lake City author= lon=-111.977996826172 type=airport elev=56 icao=KSLC region=US-UT runways=4 lat=40.7883987426758 desc=Salt Lake City >],\n",
       " path[<Node:airport id=\"4112\" date= country=US code=BNA longest=11030 city=Nashville author= lon=-86.6781997680664 type=airport elev=599 icao=KBNA region=US-TN runways=4 lat=36.1245002746582 desc=Nashville International Airport >, <RelationShip:route id=\"1s9vm-368-f11-cq8\" 4112:airport -> route -> 16496:airport dist=641 >, <Node:airport id=\"16496\" date= country=CA code=YYZ longest=11120 city=Toronto author= lon=-79.6305999756 type=airport elev=569 icao=CYYZ region=CA-ON runways=5 lat=43.6772003174 desc=Toronto Pearson International Airport >],\n",
       " path[<Node:airport id=\"4112\" date= country=US code=BNA longest=11030 city=Nashville author= lon=-86.6781997680664 type=airport elev=599 icao=KBNA region=US-TN runways=4 lat=36.1245002746582 desc=Nashville International Airport >, <RelationShip:route id=\"1qhvm-368-f11-cqw\" 4112:airport -> route -> 16520:airport dist=448 >, <Node:airport id=\"16520\" date= country=US code=CLE longest=9956 city=Cleveland author= lon=-81.8498001099 type=airport elev=799 icao=KCLE region=US-OH runways=3 lat=41.4117012024 desc=Cleveland, Hopkins International Airport >],\n",
       " path[<Node:airport id=\"4112\" date= country=US code=BNA longest=11030 city=Nashville author= lon=-86.6781997680664 type=airport elev=599 icao=KBNA region=US-TN runways=4 lat=36.1245002746582 desc=Nashville International Airport >, <RelationShip:route id=\"1sa9u-368-f11-csw\" 4112:airport -> route -> 16592:airport dist=4168 >, <Node:airport id=\"16592\" date= country=UK code=LHR longest=12799 city=London author= lon=-0.461941003799 type=airport elev=83 icao=EGLL region=GB-ENG runways=2 lat=51.4706001282 desc=London Heathrow >],\n",
       " path[<Node:airport id=\"4112\" date= country=US code=BNA longest=11030 city=Nashville author= lon=-86.6781997680664 type=airport elev=599 icao=KBNA region=US-TN runways=4 lat=36.1245002746582 desc=Nashville International Airport >, <RelationShip:route id=\"1qh36-368-f11-ftc\" 4112:airport -> route -> 20496:airport dist=481 >, <Node:airport id=\"20496\" date= country=US code=CID longest=8600 city=Cedar Rapids author= lon=-91.7108001708984 type=airport elev=869 icao=KCID region=US-IA runways=2 lat=41.8847007751465 desc=The Eastern Iowa Airport >],\n",
       " path[<Node:airport id=\"4112\" date= country=US code=BNA longest=11030 city=Nashville author= lon=-86.6781997680664 type=airport elev=599 icao=KBNA region=US-TN runways=4 lat=36.1245002746582 desc=Nashville International Airport >, <RelationShip:route id=\"1qb5u-368-f11-fuw\" 4112:airport -> route -> 20552:airport dist=806 >, <Node:airport id=\"20552\" date= country=US code=MIA longest=13016 city=Miami author= lon=-80.2906036376953 type=airport elev=8 icao=KMIA region=US-FL runways=4 lat=25.7931995391846 desc=Miami International Airport >],\n",
       " path[<Node:airport id=\"4112\" date= country=US code=BNA longest=11030 city=Nashville author= lon=-86.6781997680664 type=airport elev=599 icao=KBNA region=US-TN runways=4 lat=36.1245002746582 desc=Nashville International Airport >, <RelationShip:route id=\"1qfia-368-f11-fv4\" 4112:airport -> route -> 20560:airport dist=1010 >, <Node:airport id=\"20560\" date= country=US code=DEN longest=16000 city=Denver author= lon=-104.672996520996 type=airport elev=5433 icao=KDEN region=US-CO runways=6 lat=39.8616981506348 desc=Denver International Airport >],\n",
       " path[<Node:airport id=\"4112\" date= country=US code=BNA longest=11030 city=Nashville author= lon=-86.6781997680664 type=airport elev=599 icao=KBNA region=US-TN runways=4 lat=36.1245002746582 desc=Nashville International Airport >, <RelationShip:route id=\"1qfwi-368-f11-fvs\" 4112:airport -> route -> 20584:airport dist=820 >, <Node:airport id=\"20584\" date= country=US code=SAT longest=8505 city=San Antonio author= lon=-98.4698028564453 type=airport elev=809 icao=KSAT region=US-TX runways=3 lat=29.5337009429932 desc=San Antonio >],\n",
       " path[<Node:airport id=\"4112\" date= country=US code=BNA longest=11030 city=Nashville author= lon=-86.6781997680664 type=airport elev=599 icao=KBNA region=US-TN runways=4 lat=36.1245002746582 desc=Nashville International Airport >, <RelationShip:route id=\"1sao2-368-f11-fw8\" 4112:airport -> route -> 20600:airport dist=723 >, <Node:airport id=\"20600\" date= country=US code=RSW longest=12000 city=Fort Myers author= lon=-81.7552032470703 type=airport elev=30 icao=KRSW region=US-FL runways=1 lat=26.5361995697021 desc=Southwest Florida International Airport >],\n",
       " path[<Node:airport id=\"4112\" date= country=US code=BNA longest=11030 city=Nashville author= lon=-86.6781997680664 type=airport elev=599 icao=KBNA region=US-TN runways=4 lat=36.1245002746582 desc=Nashville International Airport >, <RelationShip:route id=\"1qcci-368-f11-j0o\" 4112:airport -> route -> 24648:airport dist=1444 >, <Node:airport id=\"24648\" date= country=US code=PHX longest=11489 city=Phoenix author= lon=-112.012001037598 type=airport elev=1135 icao=KPHX region=US-AZ runways=3 lat=33.4342994689941 desc=Phoenix Sky Harbor International Airport >],\n",
       " path[<Node:airport id=\"4112\" date= country=US code=BNA longest=11030 city=Nashville author= lon=-86.6781997680664 type=airport elev=599 icao=KBNA region=US-TN runways=4 lat=36.1245002746582 desc=Nashville International Airport >, <RelationShip:route id=\"1qgoy-368-f11-j0w\" 4112:airport -> route -> 24656:airport dist=745 >, <Node:airport id=\"24656\" date= country=US code=EWR longest=11000 city=Newark author= lon=-74.168701171875 type=airport elev=17 icao=KEWR region=US-NY runways=3 lat=40.6925010681152 desc=Newark, Liberty >],\n",
       " path[<Node:airport id=\"4112\" date= country=US code=BNA longest=11030 city=Nashville author= lon=-86.6781997680664 type=airport elev=599 icao=KBNA region=US-TN runways=4 lat=36.1245002746582 desc=Nashville International Airport >, <RelationShip:route id=\"1qj2a-368-f11-m4w\" 4112:airport -> route -> 28688:airport dist=456 >, <Node:airport id=\"28688\" date= country=US code=DTW longest=12003 city=Detroit author= lon=-83.353401184082 type=airport elev=645 icao=KDTW region=US-MI runways=6 lat=42.2123985290527 desc=Detroit Metropolitan, Wayne County >],\n",
       " path[<Node:airport id=\"4112\" date= country=US code=BNA longest=11030 city=Nashville author= lon=-86.6781997680664 type=airport elev=599 icao=KBNA region=US-TN runways=4 lat=36.1245002746582 desc=Nashville International Airport >, <RelationShip:route id=\"1qcqq-368-f11-m6g\" 4112:airport -> route -> 28744:airport dist=441 >, <Node:airport id=\"28744\" date= country=US code=RDU longest=10000 city=Raleigh author= lon=-78.7874984741211 type=airport elev=435 icao=KRDU region=US-NC runways=3 lat=35.8776016235352 desc=Raleigh-Durham >],\n",
       " path[<Node:airport id=\"4112\" date= country=US code=BNA longest=11030 city=Nashville author= lon=-86.6781997680664 type=airport elev=599 icao=KBNA region=US-TN runways=4 lat=36.1245002746582 desc=Nashville International Airport >, <RelationShip:route id=\"1sb2a-368-f11-sjs\" 4112:airport -> route -> 37000:airport dist=1698 >, <Node:airport id=\"37000\" date= country=CA code=YYC longest=12675 city=Calgary author= lon=-114.019996643 type=airport elev=3557 icao=CYYC region=CA-AB runways=3 lat=51.113899231 desc=Calgary International Airport >],\n",
       " path[<Node:airport id=\"4112\" date= country=US code=BNA longest=11030 city=Nashville author= lon=-86.6781997680664 type=airport elev=599 icao=KBNA region=US-TN runways=4 lat=36.1245002746582 desc=Nashville International Airport >, <RelationShip:route id=\"1qf42-368-f11-ytk\" 4112:airport -> route -> 45128:airport dist=1582 >, <Node:airport id=\"45128\" date= country=US code=LAS longest=14512 city=Las Vegas author= lon=-115.1520004 type=airport elev=2181 icao=KLAS region=US-NV runways=4 lat=36.08010101 desc=Las Vegas Mc Carran >],\n",
       " path[<Node:airport id=\"4112\" date= country=US code=BNA longest=11030 city=Nashville author= lon=-86.6781997680664 type=airport elev=599 icao=KBNA region=US-TN runways=4 lat=36.1245002746582 desc=Nashville International Airport >, <RelationShip:route id=\"1qgaq-368-f11-11zc\" 4112:airport -> route -> 49224:airport dist=471 >, <Node:airport id=\"49224\" date= country=US code=MSY longest=10104 city=New Orleans author= lon=-90.2580032348633 type=airport elev=3 icao=KMSY region=US-LA runways=2 lat=29.9934005737305 desc=New Orleans L. Armstrong >],\n",
       " path[<Node:airport id=\"4112\" date= country=US code=BNA longest=11030 city=Nashville author= lon=-86.6781997680664 type=airport elev=599 icao=KBNA region=US-TN runways=4 lat=36.1245002746582 desc=Nashville International Airport >, <RelationShip:route id=\"1sbgi-368-f11-1560\" 4112:airport -> route -> 53352:airport dist=461 >, <Node:airport id=\"53352\" date= country=US code=PIT longest=11500 city=Pittsburgh author= lon=-80.23290253 type=airport elev=1203 icao=KPIT region=US-PA runways=4 lat=40.49150085 desc=Pittsburgh International Airport >],\n",
       " path[<Node:airport id=\"4112\" date= country=US code=BNA longest=11030 city=Nashville author= lon=-86.6781997680664 type=airport elev=599 icao=KBNA region=US-TN runways=4 lat=36.1245002746582 desc=Nashville International Airport >, <RelationShip:route id=\"1sc8y-368-f11-18c8\" 4112:airport -> route -> 57464:airport dist=614 >, <Node:airport id=\"57464\" date= country=US code=OKC longest=9800 city=Oaklahoma City author= lon=-97.600700378418 type=airport elev=1295 icao=KOKC region=US-OK runways=4 lat=35.3931007385254 desc=Oaklahoma City, Will Rogers World Airport >],\n",
       " path[<Node:airport id=\"4112\" date= country=US code=BNA longest=11030 city=Nashville author= lon=-86.6781997680664 type=airport elev=599 icao=KBNA region=US-TN runways=4 lat=36.1245002746582 desc=Nashville International Airport >, <RelationShip:route id=\"1sd1e-368-f11-1big\" 4112:airport -> route -> 61576:airport dist=1042 >, <Node:airport id=\"61576\" date= country=MX code=CUN longest=11483 city=Cancun author= lon=-86.8770980835 type=airport elev=22 icao=MMUN region=MX-ROO runways=2 lat=21.0365009308 desc=Cancun International Airport >],\n",
       " path[<Node:airport id=\"4112\" date= country=US code=BNA longest=11030 city=Nashville author= lon=-86.6781997680664 type=airport elev=599 icao=KBNA region=US-TN runways=4 lat=36.1245002746582 desc=Nashville International Airport >, <RelationShip:route id=\"1sdtu-368-f11-1enc\" 4112:airport -> route -> 65640:airport dist=230 >, <Node:airport id=\"65640\" date= country=US code=CVG longest=12000 city=Cincinnati author= lon=-84.6678009033 type=airport elev=896 icao=KCVG region=US-KY runways=4 lat=39.0488014221 desc=Cincinnati Northern Kentucky International Airport >],\n",
       " path[<Node:airport id=\"4112\" date= country=US code=BNA longest=11030 city=Nashville author= lon=-86.6781997680664 type=airport elev=599 icao=KBNA region=US-TN runways=4 lat=36.1245002746582 desc=Nashville International Airport >, <RelationShip:route id=\"1sdfm-368-f11-1eo8\" 4112:airport -> route -> 65672:airport dist=200 >, <Node:airport id=\"65672\" date= country=US code=MEM longest=11120 city=Memphis author= lon=-89.9766998291016 type=airport elev=341 icao=KMEM region=US-TN runways=4 lat=35.0424003601074 desc=Memphis International Airport >],\n",
       " path[<Node:airport id=\"4112\" date= country=US code=BNA longest=11030 city=Nashville author= lon=-86.6781997680664 type=airport elev=599 icao=KBNA region=US-TN runways=4 lat=36.1245002746582 desc=Nashville International Airport >, <RelationShip:route id=\"1sbuq-368-f11-1hqo\" 4112:airport -> route -> 69648:airport dist=1967 >, <Node:airport id=\"69648\" date= country=US code=PDX longest=11000 city=Portland author= lon=-122.5979996 type=airport elev=31 icao=KPDX region=US-OR runways=3 lat=45.58869934 desc=Portland International Airport >],\n",
       " path[<Node:airport id=\"4112\" date= country=US code=BNA longest=11030 city=Nashville author= lon=-86.6781997680664 type=airport elev=599 icao=KBNA region=US-TN runways=4 lat=36.1245002746582 desc=Nashville International Airport >, <RelationShip:route id=\"1sema-368-f11-1ht4\" 4112:airport -> route -> 69736:airport dist=621 >, <Node:airport id=\"69736\" date= country=US code=DAL longest=8800 city=Dallas author= lon=-96.8517990112305 type=airport elev=487 icao=KDAL region=US-TX runways=3 lat=32.8470993041992 desc=Dallas Love Field >],\n",
       " path[<Node:airport id=\"4112\" date= country=US code=BNA longest=11030 city=Nashville author= lon=-86.6781997680664 type=airport elev=599 icao=KBNA region=US-TN runways=4 lat=36.1245002746582 desc=Nashville International Airport >, <RelationShip:route id=\"1se82-368-f11-1kz4\" 4112:airport -> route -> 73840:airport dist=490 >, <Node:airport id=\"73840\" date= country=US code=MCI longest=10801 city=Kansas City author= lon=-94.7138977050781 type=airport elev=1026 icao=KMCI region=US-MO runways=3 lat=39.2975997924805 desc=Kansas City International Airport >],\n",
       " path[<Node:airport id=\"4112\" date= country=US code=BNA longest=11030 city=Nashville author= lon=-86.6781997680664 type=airport elev=599 icao=KBNA region=US-TN runways=4 lat=36.1245002746582 desc=Nashville International Airport >, <RelationShip:route id=\"1sfsy-368-f11-1raw\" 4112:airport -> route -> 82040:airport dist=395 >, <Node:airport id=\"82040\" date= country=US code=MDW longest=6522 city=Chicago author= lon=-87.7524032592773 type=airport elev=620 icao=KMDW region=US-IL runways=5 lat=41.7859992980957 desc=Chicago Midway International Airport >],\n",
       " path[<Node:airport id=\"4112\" date= country=US code=BNA longest=11030 city=Nashville author= lon=-86.6781997680664 type=airport elev=599 icao=KBNA region=US-TN runways=4 lat=36.1245002746582 desc=Nashville International Airport >, <RelationShip:route id=\"1scn6-368-f11-1uj4\" 4112:airport -> route -> 86224:airport dist=328 >, <Node:airport id=\"86224\" date= country=US code=CLT longest=10000 city=Charlotte author= lon=-80.9430999755859 type=airport elev=748 icao=KCLT region=US-NC runways=4 lat=35.2140007019043 desc=Charlotte Douglas International Airport >],\n",
       " path[<Node:airport id=\"4112\" date= country=US code=BNA longest=11030 city=Nashville author= lon=-86.6781997680664 type=airport elev=599 icao=KBNA region=US-TN runways=4 lat=36.1245002746582 desc=Nashville International Airport >, <RelationShip:route id=\"1sgle-368-f11-23y0\" 4112:airport -> route -> 98424:airport dist=905 >, <Node:airport id=\"98424\" date= country=US code=PVD longest=7166 city=Providence author= lon=-71.4204025268555 type=airport elev=55 icao=KPVD region=US-RI runways=2 lat=41.7326011657715 desc=Providence, Theodore Francis Green State Airport >],\n",
       " path[<Node:airport id=\"4112\" date= country=US code=BNA longest=11030 city=Nashville author= lon=-86.6781997680664 type=airport elev=599 icao=KBNA region=US-TN runways=4 lat=36.1245002746582 desc=Nashville International Airport >, <RelationShip:route id=\"1shs2-368-f11-2408\" 4112:airport -> route -> 98504:airport dist=337 >, <Node:airport id=\"98504\" date= country=US code=CMH longest=10125 city=Columbus author= lon=-82.8918991088867 type=airport elev=815 icao=KCMH region=US-OH runways=2 lat=39.9980010986328 desc=Columbus, Port Columbus International Airport >],\n",
       " path[<Node:airport id=\"4112\" date= country=US code=BNA longest=11030 city=Nashville author= lon=-86.6781997680664 type=airport elev=599 icao=KBNA region=US-TN runways=4 lat=36.1245002746582 desc=Nashville International Airport >, <RelationShip:route id=\"1sg76-368-f11-2gnk\" 4112:airport -> route -> 114896:airport dist=484 >, <Node:airport id=\"114896\" date= country=US code=JAX longest=10000 city=Jacksonville author= lon=-81.6878967285156 type=airport elev=30 icao=KJAX region=US-FL runways=2 lat=30.4941005706787 desc=Jacksonville International Airport >],\n",
       " path[<Node:airport id=\"4112\" date= country=US code=BNA longest=11030 city=Nashville author= lon=-86.6781997680664 type=airport elev=599 icao=KBNA region=US-TN runways=4 lat=36.1245002746582 desc=Nashville International Airport >, <RelationShip:route id=\"1shdu-368-f11-2jqo\" 4112:airport -> route -> 118896:airport dist=402 >, <Node:airport id=\"118896\" date= country=US code=ECP longest=10000 city=Panama City Beach author= lon=-85.7973 type=airport elev=69 icao=KECP region=US-FL runways=1 lat=30.3417 desc=Northwest Florida Beaches International Airport >],\n",
       " path[<Node:airport id=\"4112\" date= country=US code=BNA longest=11030 city=Nashville author= lon=-86.6781997680664 type=airport elev=599 icao=KBNA region=US-TN runways=4 lat=36.1245002746582 desc=Nashville International Airport >, <RelationShip:route id=\"1si6a-368-f11-2we0\" 4112:airport -> route -> 135288:airport dist=526 >, <Node:airport id=\"135288\" date= country=US code=RIC longest=9003 city=Richmond author= lon=-77.3197021484375 type=airport elev=167 icao=KRIC region=US-VA runways=3 lat=37.505199432373 desc=Richmond International Airport >],\n",
       " path[<Node:airport id=\"4112\" date= country=US code=BNA longest=11030 city=Nashville author= lon=-86.6781997680664 type=airport elev=599 icao=KBNA region=US-TN runways=4 lat=36.1245002746582 desc=Nashville International Airport >, <RelationShip:route id=\"1skjm-368-f11-3c6g\" 4112:airport -> route -> 155752:airport dist=390 >, <Node:airport id=\"155752\" date= country=US code=VPS longest=12005 city=Valparaiso author= lon=-86.5253982543945 type=airport elev=87 icao=KVPS region=US-FL runways=2 lat=30.4832000732422 desc=Eglin Air Force Base >],\n",
       " path[<Node:airport id=\"4112\" date= country=US code=BNA longest=11030 city=Nashville author= lon=-86.6781997680664 type=airport elev=599 icao=KBNA region=US-TN runways=4 lat=36.1245002746582 desc=Nashville International Airport >, <RelationShip:route id=\"1slc2-368-f11-3c7c\" 4112:airport -> route -> 155784:airport dist=649 >, <Node:airport id=\"155784\" date= country=US code=SRQ longest=9500 city=Sarasota/Bradenton author= lon=-82.5543975830078 type=airport elev=30 icao=KSRQ region=US-FL runways=2 lat=27.3953990936279 desc=Sarasota Bradenton International Airport >],\n",
       " path[<Node:airport id=\"4112\" date= country=US code=BNA longest=11030 city=Nashville author= lon=-86.6781997680664 type=airport elev=599 icao=KBNA region=US-TN runways=4 lat=36.1245002746582 desc=Nashville International Airport >, <RelationShip:route id=\"1siki-368-f11-3iig\" 4112:airport -> route -> 163960:airport dist=470 >, <Node:airport id=\"163960\" date= country=US code=MYR longest=9503 city=Myrtle Beach author= lon=-78.9282989502 type=airport elev=25 icao=KMYR region=US-SC runways=1 lat=33.6796989441 desc=Myrtle Beach International Airport >],\n",
       " path[<Node:airport id=\"4112\" date= country=US code=BNA longest=11030 city=Nashville author= lon=-86.6781997680664 type=airport elev=599 icao=KBNA region=US-TN runways=4 lat=36.1245002746582 desc=Nashville International Airport >, <RelationShip:route id=\"1sjcy-368-f11-3rzs\" 4112:airport -> route -> 176248:airport dist=265 >, <Node:airport id=\"176248\" date= country=US code=GSP longest=11000 city=Greenville author= lon=-82.2189025879 type=airport elev=964 icao=KGSP region=US-SC runways=1 lat=34.8956985474 desc=Greenville Spartanburg International Airport >],\n",
       " path[<Node:airport id=\"4112\" date= country=US code=BNA longest=11030 city=Nashville author= lon=-86.6781997680664 type=airport elev=599 icao=KBNA region=US-TN runways=4 lat=36.1245002746582 desc=Nashville International Airport >, <RelationShip:route id=\"1skxu-368-f11-3s28\" 4112:airport -> route -> 176336:airport dist=740 >, <Node:airport id=\"176336\" date= country=US code=SYR longest=9003 city=Syracuse author= lon=-76.1063003540039 type=airport elev=421 icao=KSYR region=US-NY runways=3 lat=43.111198425293 desc=Syracuse Hancock International Airport >],\n",
       " path[<Node:airport id=\"4112\" date= country=US code=BNA longest=11030 city=Nashville author= lon=-86.6781997680664 type=airport elev=599 icao=KBNA region=US-TN runways=4 lat=36.1245002746582 desc=Nashville International Airport >, <RelationShip:route id=\"1sk5e-368-f11-3v7s\" 4112:airport -> route -> 180424:airport dist=417 >, <Node:airport id=\"180424\" date= country=US code=SAV longest=9351 city=Savannah author= lon=-81.20210266 type=airport elev=50 icao=KSAV region=US-GA runways=2 lat=32.12760162 desc=Savannah Hilton Head International Airport >],\n",
       " path[<Node:airport id=\"4112\" date= country=US code=BNA longest=11030 city=Nashville author= lon=-86.6781997680664 type=airport elev=599 icao=KBNA region=US-TN runways=4 lat=36.1245002746582 desc=Nashville International Airport >, <RelationShip:route id=\"1sf0i-368-f11-3ya0\" 4112:airport -> route -> 184392:airport dist=272 >, <Node:airport id=\"184392\" date= country=US code=STL longest=11019 city=St Louis author= lon=-90.370002746582 type=airport elev=618 icao=KSTL region=US-MO runways=4 lat=38.7486991882324 desc=Lambert St Louis International Airport >],\n",
       " path[<Node:airport id=\"4112\" date= country=US code=BNA longest=11030 city=Nashville author= lon=-86.6781997680664 type=airport elev=599 icao=KBNA region=US-TN runways=4 lat=36.1245002746582 desc=Nashville International Airport >, <RelationShip:route id=\"1sfeq-368-f11-41fs\" 4112:airport -> route -> 188488:airport dist=476 >, <Node:airport id=\"188488\" date= country=US code=MKE longest=9690 city=Milwaukee author= lon=-87.896598815918 type=airport elev=723 icao=KMKE region=US-WI runways=5 lat=42.9472007751465 desc=General Mitchell International Airport >],\n",
       " path[<Node:airport id=\"4112\" date= country=US code=BNA longest=11030 city=Nashville author= lon=-86.6781997680664 type=airport elev=599 icao=KBNA region=US-TN runways=4 lat=36.1245002746582 desc=Nashville International Airport >, <RelationShip:route id=\"1sjr6-368-f11-41gw\" 4112:airport -> route -> 188528:airport dist=391 >, <Node:airport id=\"188528\" date= country=US code=PNS longest=7004 city=Pensacola author= lon=-87.1865997314453 type=airport elev=121 icao=KPNS region=US-FL runways=2 lat=30.4734001159668 desc=Pensacola Regional Airport >],\n",
       " path[<Node:airport id=\"4112\" date= country=US code=BNA longest=11030 city=Nashville author= lon=-86.6781997680664 type=airport elev=599 icao=KBNA region=US-TN runways=4 lat=36.1245002746582 desc=Nashville International Airport >, <RelationShip:route id=\"1sgzm-368-f11-4tvs\" 4112:airport -> route -> 225352:airport dist=632 >, <Node:airport id=\"225352\" date= country=US code=BUF longest=8102 city=Buffalo author= lon=-78.73220062 type=airport elev=728 icao=KBUF region=US-NY runways=2 lat=42.94049835 desc=Buffalo Niagara International Airport >],\n",
       " path[<Node:airport id=\"4112\" date= country=US code=BNA longest=11030 city=Nashville author= lon=-86.6781997680664 type=airport elev=599 icao=KBNA region=US-TN runways=4 lat=36.1245002746582 desc=Nashville International Airport >, <RelationShip:route id=\"1slqa-368-f11-4x00\" 4112:airport -> route -> 229392:airport dist=598 >, <Node:airport id=\"229392\" date= country=US code=SFB longest=9600 city=Orlando author= lon=-81.2375030517578 type=airport elev=55 icao=KSFB region=US-FL runways=4 lat=28.7775993347168 desc=Orlando Sanford International Airport >],\n",
       " path[<Node:airport id=\"4112\" date= country=US code=BNA longest=11030 city=Nashville author= lon=-86.6781997680664 type=airport elev=599 icao=KBNA region=US-TN runways=4 lat=36.1245002746582 desc=Nashville International Airport >, <RelationShip:route id=\"1smiq-368-f11-5csw\" 4112:airport -> route -> 249872:airport dist=109 >, <Node:airport id=\"249872\" date= country=US code=MSL longest=6693 city=Muscle Shoals author= lon=-87.61019897 type=airport elev=551 icao=KMSL region=US-AL runways=2 lat=34.74530029 desc=Northwest Alabama Regional Airport >],\n",
       " path[<Node:airport id=\"4112\" date= country=US code=BNA longest=11030 city=Nashville author= lon=-86.6781997680664 type=airport elev=599 icao=KBNA region=US-TN runways=4 lat=36.1245002746582 desc=Nashville International Airport >, <RelationShip:route id=\"1snb6-368-f11-5g0g\" 4112:airport -> route -> 254032:airport dist=174 >, <Node:airport id=\"254032\" date= country=US code=TUP longest=6500 city=Tupelo author= lon=-88.7698974609375 type=airport elev=346 icao=KTUP region=US-MS runways=1 lat=34.2681007385254 desc=Tupelo Regional Airport >],\n",
       " path[<Node:airport id=\"4112\" date= country=US code=BNA longest=11030 city=Nashville author= lon=-86.6781997680664 type=airport elev=599 icao=KBNA region=US-TN runways=4 lat=36.1245002746582 desc=Nashville International Airport >, <RelationShip:route id=\"1smwy-368-f11-5g1k\" 4112:airport -> route -> 254072:airport dist=704 >, <Node:airport id=\"254072\" date= country=US code=TTN longest=6006 city=Trenton author= lon=-74.8134994506836 type=airport elev=213 icao=KTTN region=US-NJ runways=2 lat=40.2766990661621 desc=Trenton Mercer Airport >],\n",
       " path[<Node:airport id=\"4112\" date= country=US code=BNA longest=11030 city=Nashville author= lon=-86.6781997680664 type=airport elev=599 icao=KBNA region=US-TN runways=4 lat=36.1245002746582 desc=Nashville International Airport >, <RelationShip:route id=\"1siyq-368-f11-7adk\" 4112:airport -> route -> 340040:airport dist=438 >, <Node:airport id=\"340040\" date= country=US code=CHS longest=9001 city=Charleston author= lon=-80.04049683 type=airport elev=46 icao=KCHS region=US-SC runways=2 lat=32.89860153 desc=Charleston Air Force Base-International Airport >],\n",
       " path[<Node:airport id=\"4112\" date= country=US code=BNA longest=11030 city=Nashville author= lon=-86.6781997680664 type=airport elev=599 icao=KBNA region=US-TN runways=4 lat=36.1245002746582 desc=Nashville International Airport >, <RelationShip:route id=\"1snpe-368-f11-9kko\" 4112:airport -> route -> 446568:airport dist=242 >, <Node:airport id=\"446568\" date= country=US code=AHN longest=5522 city=Athens author= lon=-83.326301574707 type=airport elev=808 icao=KAHN region=US-GA runways=2 lat=33.948600769043 desc=Athens Ben Epps Airport >],\n",
       " path[<Node:airport id=\"4112\" date= country=US code=BNA longest=11030 city=Nashville author= lon=-86.6781997680664 type=airport elev=599 icao=KBNA region=US-TN runways=4 lat=36.1245002746582 desc=Nashville International Airport >, <RelationShip:route id=\"1sohu-368-f11-a9sg\" 4112:airport -> route -> 479248:airport dist=613 >, <Node:airport id=\"479248\" date= country=US code=PIE longest=8800 city=St Petersburg-Clearwater author= lon=-82.68740082 type=airport elev=11 icao=KPIE region=US-FL runways=4 lat=27.91020012 desc=St Petersburg Clearwater International Airport >],\n",
       " path[<Node:airport id=\"4112\" date= country=US code=BNA longest=11030 city=Nashville author= lon=-86.6781997680664 type=airport elev=599 icao=KBNA region=US-TN runways=4 lat=36.1245002746582 desc=Nashville International Airport >, <RelationShip:route id=\"1so3m-368-f11-a9u8\" 4112:airport -> route -> 479312:airport dist=130 >, <Node:airport id=\"479312\" date= country=US code=MKL longest=6006 city=Jackson author= lon=-88.91560364 type=airport elev=434 icao=KMKL region=US-TN runways=2 lat=35.59989929 desc=Mc Kellar Sipes Regional Airport >],\n",
       " path[<Node:airport id=\"4112\" date= country=US code=BNA longest=11030 city=Nashville author= lon=-86.6781997680664 type=airport elev=599 icao=KBNA region=US-TN runways=4 lat=36.1245002746582 desc=Nashville International Airport >, <RelationShip:route id=\"1sm4i-368-f11-bxvs\" 4112:airport -> route -> 557128:airport dist=683 >, <Node:airport id=\"557128\" date= country=US code=ABE longest=7600 city=Allentown author= lon=-75.440803527832 type=airport elev=393 icao=KABE region=US-PA runways=2 lat=40.652099609375 desc=Lehigh Valley International Airport >],\n",
       " path[<Node:airport id=\"4112\" date= country=US code=BNA longest=11030 city=Nashville author= lon=-86.6781997680664 type=airport elev=599 icao=KBNA region=US-TN runways=4 lat=36.1245002746582 desc=Nashville International Airport >, <RelationShip:route id=\"1sow2-368-f11-c7e8\" 4112:airport -> route -> 569456:airport dist=693 >, <Node:airport id=\"569456\" date= country=US code=PGD longest=6695 city=Punta Gorda author= lon=-81.9905014 type=airport elev=26 icao=KPGD region=US-FL runways=3 lat=26.92020035 desc=Charlotte County Airport >]]"
      ]
     },
     "execution_count": 6,
     "metadata": {},
     "output_type": "execute_result"
    }
   ],
   "source": [
    "# get all outE relationships of Npde\n",
    "graph_search.graph.V().hasId(4112).has('code', 'BNA').outE().inV().path().by(__.elementMap()).toList()"
   ]
  },
  {
   "cell_type": "code",
   "execution_count": 7,
   "metadata": {},
   "outputs": [
    {
     "data": {
      "text/plain": [
       "[{'n': <Node:airport id=\"4112\" date= country=US code=BNA longest=11030 city=Nashville author= lon=-86.6781997680664 type=airport elev=599 icao=KBNA region=US-TN runways=4 lat=36.1245002746582 desc=Nashville International Airport >,\n",
       "  'v': <RelationShip:route id=\"1q802-368-f11-38o\" 4112:airport -> route -> 4200:airport dist=630 >,\n",
       "  'e': <Node:airport id=\"4200\" date= country=US code=DFW longest=13401 city=Dallas author= lon=-97.0380020141602 type=airport elev=607 icao=KDFW region=US-TX runways=7 lat=32.896800994873 desc=Dallas/Fort Worth International Airport >},\n",
       " {'n': <Node:airport id=\"4112\" date= country=US code=BNA longest=11030 city=Nashville author= lon=-86.6781997680664 type=airport elev=599 icao=KBNA region=US-TN runways=4 lat=36.1245002746582 desc=Nashville International Airport >,\n",
       "  'v': <RelationShip:route id=\"1q96q-368-f11-38w\" 4112:airport -> route -> 4208:airport dist=657 >,\n",
       "  'e': <Node:airport id=\"4208\" date= country=US code=IAH longest=12001 city=Houston author= lon=-95.3414001464844 type=airport elev=96 icao=KIAH region=US-TX runways=5 lat=29.9843997955322 desc=George Bush Intercontinental >},\n",
       " {'n': <Node:airport id=\"4112\" date= country=US code=BNA longest=11030 city=Nashville author= lon=-86.6781997680664 type=airport elev=599 icao=KBNA region=US-TN runways=4 lat=36.1245002746582 desc=Nashville International Airport >,\n",
       "  'v': <RelationShip:route id=\"1qebm-368-f11-394\" 4112:airport -> route -> 4216:airport dist=1746 >,\n",
       "  'e': <Node:airport id=\"4216\" date= country=US code=SAN longest=9400 city=San Diego author= lon=-117.190002441 type=airport elev=16 icao=KSAN region=US-CA runways=1 lat=32.7336006165 desc=San Diego Lindbergh >},\n",
       " {'n': <Node:airport id=\"4112\" date= country=US code=BNA longest=11030 city=Nashville author= lon=-86.6781997680664 type=airport elev=599 icao=KBNA region=US-TN runways=4 lat=36.1245002746582 desc=Nashville International Airport >,\n",
       "  'v': <RelationShip:route id=\"1q6f6-368-f11-39k\" 4112:airport -> route -> 4232:airport dist=755 >,\n",
       "  'e': <Node:airport id=\"4232\" date= country=US code=AUS longest=12250 city=Austin author= lon=-97.6698989868164 type=airport elev=542 icao=KAUS region=US-TX runways=2 lat=30.1944999694824 desc=Austin Bergstrom International Airport >},\n",
       " {'n': <Node:airport id=\"4112\" date= country=US code=BNA longest=11030 city=Nashville author= lon=-86.6781997680664 type=airport elev=599 icao=KBNA region=US-TN runways=4 lat=36.1245002746582 desc=Nashville International Airport >,\n",
       "  'v': <RelationShip:route id=\"1qade-368-f11-3bc\" 4112:airport -> route -> 4296:airport dist=762 >,\n",
       "  'e': <Node:airport id=\"4296\" date= country=US code=LGA longest=7003 city=New York author= lon=-73.87259674 type=airport elev=20 icao=KLGA region=US-NY runways=2 lat=40.77719879 desc=New York La Guardia >},\n",
       " {'n': <Node:airport id=\"4112\" date= country=US code=BNA longest=11030 city=Nashville author= lon=-86.6781997680664 type=airport elev=599 icao=KBNA region=US-TN runways=4 lat=36.1245002746582 desc=Nashville International Airport >,\n",
       "  'v': <RelationShip:route id=\"1q77m-368-f11-3bk\" 4112:airport -> route -> 4304:airport dist=586 >,\n",
       "  'e': <Node:airport id=\"4304\" date= country=US code=BWI longest=10502 city=Baltimore author= lon=-76.66829681 type=airport elev=143 icao=KBWI region=US-MD runways=3 lat=39.17539978 desc=Baltimore/Washington International Airport >},\n",
       " {'n': <Node:airport id=\"4112\" date= country=US code=BNA longest=11030 city=Nashville author= lon=-86.6781997680664 type=airport elev=599 icao=KBNA region=US-TN runways=4 lat=36.1245002746582 desc=Nashville International Airport >,\n",
       "  'v': <RelationShip:route id=\"1qbk2-368-f11-6c0\" 4112:airport -> route -> 8208:airport dist=694 >,\n",
       "  'e': <Node:airport id=\"8208\" date= country=US code=MSP longest=11006 city=Minneapolis author= lon=-93.2218017578 type=airport elev=841 icao=KMSP region=US-MN runways=4 lat=44.8819999695 desc=Minneapolis-St.Paul International Airport >},\n",
       " {'n': <Node:airport id=\"4112\" date= country=US code=BNA longest=11030 city=Nashville author= lon=-86.6781997680664 type=airport elev=599 icao=KBNA region=US-TN runways=4 lat=36.1245002746582 desc=Nashville International Airport >,\n",
       "  'v': <RelationShip:route id=\"1q60y-368-f11-6dk\" 4112:airport -> route -> 8264:airport dist=214 >,\n",
       "  'e': <Node:airport id=\"8264\" date= country=US code=ATL longest=12390 city=Atlanta author= lon=-84.4281005859375 type=airport elev=1026 icao=KATL region=US-GA runways=5 lat=33.6366996765137 desc=Hartsfield - Jackson Atlanta International Airport >},\n",
       " {'n': <Node:airport id=\"4112\" date= country=US code=BNA longest=11030 city=Nashville author= lon=-86.6781997680664 type=airport elev=599 icao=KBNA region=US-TN runways=4 lat=36.1245002746582 desc=Nashville International Airport >,\n",
       "  'v': <RelationShip:route id=\"1q7lu-368-f11-6ds\" 4112:airport -> route -> 8272:airport dist=560 >,\n",
       "  'e': <Node:airport id=\"8272\" date= country=US code=DCA longest=7169 city=Washington D.C. author= lon=-77.0376968383789 type=airport elev=14 icao=KDCA region=US-DC runways=3 lat=38.8521003723145 desc=Ronald Reagan Washington National Airport >},\n",
       " {'n': <Node:airport id=\"4112\" date= country=US code=BNA longest=11030 city=Nashville author= lon=-86.6781997680664 type=airport elev=599 icao=KBNA region=US-TN runways=4 lat=36.1245002746582 desc=Nashville International Airport >,\n",
       "  'v': <RelationShip:route id=\"1q9z6-368-f11-6eg\" 4112:airport -> route -> 8296:airport dist=1790 >,\n",
       "  'e': <Node:airport id=\"8296\" date= country=US code=LAX longest=12091 city=Los Angeles author= lon=-118.4079971 type=airport elev=127 icao=KLAX region=US-CA runways=4 lat=33.94250107 desc=Los Angeles International Airport >},\n",
       " {'n': <Node:airport id=\"4112\" date= country=US code=BNA longest=11030 city=Nashville author= lon=-86.6781997680664 type=airport elev=599 icao=KBNA region=US-TN runways=4 lat=36.1245002746582 desc=Nashville International Airport >,\n",
       "  'v': <RelationShip:route id=\"1qbya-368-f11-6eo\" 4112:airport -> route -> 8304:airport dist=409 >,\n",
       "  'e': <Node:airport id=\"8304\" date= country=US code=ORD longest=13000 city=Chicago author= lon=-87.90480042 type=airport elev=672 icao=KORD region=US-IL runways=7 lat=41.97859955 desc=Chicago O'Hare International Airport >},\n",
       " {'n': <Node:airport id=\"4112\" date= country=US code=BNA longest=11030 city=Nashville author= lon=-86.6781997680664 type=airport elev=599 icao=KBNA region=US-TN runways=4 lat=36.1245002746582 desc=Nashville International Airport >,\n",
       "  'v': <RelationShip:route id=\"1q6te-368-f11-6fc\" 4112:airport -> route -> 8328:airport dist=939 >,\n",
       "  'e': <Node:airport id=\"8328\" date= country=US code=BOS longest=10083 city=Boston author= lon=-71.00520325 type=airport elev=19 icao=KBOS region=US-MA runways=6 lat=42.36429977 desc=Boston Logan >},\n",
       " {'n': <Node:airport id=\"4112\" date= country=US code=BNA longest=11030 city=Nashville author= lon=-86.6781997680664 type=airport elev=599 icao=KBNA region=US-TN runways=4 lat=36.1245002746582 desc=Nashville International Airport >,\n",
       "  'v': <RelationShip:route id=\"1q8ea-368-f11-6hc\" 4112:airport -> route -> 8400:airport dist=793 >,\n",
       "  'e': <Node:airport id=\"8400\" date= country=US code=FLL longest=9000 city=Fort Lauderdale author= lon=-80.152702331543 type=airport elev=64 icao=KFLL region=US-FL runways=2 lat=26.0725994110107 desc=Fort Lauderdale/Hollywood International Airport >},\n",
       " {'n': <Node:airport id=\"4112\" date= country=US code=BNA longest=11030 city=Nashville author= lon=-86.6781997680664 type=airport elev=599 icao=KBNA region=US-TN runways=4 lat=36.1245002746582 desc=Nashville International Airport >,\n",
       "  'v': <RelationShip:route id=\"1qdj6-368-f11-9hs\" 4112:airport -> route -> 12304:airport dist=1963 >,\n",
       "  'e': <Node:airport id=\"12304\" date= country=US code=SFO longest=11870 city=San Francisco author= lon=-122.375 type=airport elev=13 icao=KSFO region=US-CA runways=4 lat=37.6189994812012 desc=San Francisco International Airport >},\n",
       " {'n': <Node:airport id=\"4112\" date= country=US code=BNA longest=11030 city=Nashville author= lon=-86.6781997680664 type=airport elev=599 icao=KBNA region=US-TN runways=4 lat=36.1245002746582 desc=Nashville International Airport >,\n",
       "  'v': <RelationShip:route id=\"1q8si-368-f11-9jc\" 4112:airport -> route -> 12360:airport dist=540 >,\n",
       "  'e': <Node:airport id=\"12360\" date= country=US code=IAD longest=11500 city=Washington D.C. author= lon=-77.45580292 type=airport elev=313 icao=KIAD region=US-VA runways=4 lat=38.94449997 desc=Washington Dulles International Airport >},\n",
       " {'n': <Node:airport id=\"4112\" date= country=US code=BNA longest=11030 city=Nashville author= lon=-86.6781997680664 type=airport elev=599 icao=KBNA region=US-TN runways=4 lat=36.1245002746582 desc=Nashville International Airport >,\n",
       "  'v': <RelationShip:route id=\"1qarm-368-f11-9jk\" 4112:airport -> route -> 12368:airport dist=616 >,\n",
       "  'e': <Node:airport id=\"12368\" date= country=US code=MCO longest=12005 city=Orlando author= lon=-81.3089981079102 type=airport elev=96 icao=KMCO region=US-FL runways=4 lat=28.4293994903564 desc=Orlando International Airport >},\n",
       " {'n': <Node:airport id=\"4112\" date= country=US code=BNA longest=11030 city=Nashville author= lon=-86.6781997680664 type=airport elev=599 icao=KBNA region=US-TN runways=4 lat=36.1245002746582 desc=Nashville International Airport >,\n",
       "  'v': <RelationShip:route id=\"1qi9u-368-f11-9kg\" 4112:airport -> route -> 12400:airport dist=1953 >,\n",
       "  'e': <Node:airport id=\"12400\" date= country=US code=OAK longest=10520 city=Oakland author= lon=-122.221000671387 type=airport elev=9 icao=KOAK region=US-CA runways=4 lat=37.7212982177734 desc=Oakland >},\n",
       " {'n': <Node:airport id=\"4112\" date= country=US code=BNA longest=11030 city=Nashville author= lon=-86.6781997680664 type=airport elev=599 icao=KBNA region=US-TN runways=4 lat=36.1245002746582 desc=Nashville International Airport >,\n",
       "  'v': <RelationShip:route id=\"1qio2-368-f11-9mw\" 4112:airport -> route -> 12488:airport dist=674 >,\n",
       "  'e': <Node:airport id=\"12488\" date= country=US code=PHL longest=10506 city=Philadelphia author= lon=-75.241096496582 type=airport elev=36 icao=KPHL region=US-PA runways=4 lat=39.871898651123 desc=Philadelphia International Airport >},\n",
       " {'n': <Node:airport id=\"4112\" date= country=US code=BNA longest=11030 city=Nashville author= lon=-86.6781997680664 type=airport elev=599 icao=KBNA region=US-TN runways=4 lat=36.1245002746582 desc=Nashville International Airport >,\n",
       "  'v': <RelationShip:route id=\"1qhhe-368-f11-9n4\" 4112:airport -> route -> 12496:airport dist=669 >,\n",
       "  'e': <Node:airport id=\"12496\" date= country=US code=HOU longest=7602 city=Houston author= lon=-95.27890015 type=airport elev=46 icao=KHOU region=US-TX runways=4 lat=29.64539909 desc=Houston Hobby >},\n",
       " {'n': <Node:airport id=\"4112\" date= country=US code=BNA longest=11030 city=Nashville author= lon=-86.6781997680664 type=airport elev=599 icao=KBNA region=US-TN runways=4 lat=36.1245002746582 desc=Nashville International Airport >,\n",
       "  'v': <RelationShip:route id=\"1qdxe-368-f11-cnk\" 4112:airport -> route -> 16400:airport dist=612 >,\n",
       "  'e': <Node:airport id=\"16400\" date= country=US code=TPA longest=11002 city=Tampa author= lon=-82.533203125 type=airport elev=26 icao=KTPA region=US-FL runways=3 lat=27.9755001068115 desc=Tampa International Airport >},\n",
       " {'n': <Node:airport id=\"4112\" date= country=US code=BNA longest=11030 city=Nashville author= lon=-86.6781997680664 type=airport elev=599 icao=KBNA region=US-TN runways=4 lat=36.1245002746582 desc=Nashville International Airport >,\n",
       "  'v': <RelationShip:route id=\"1q9ky-368-f11-cp4\" 4112:airport -> route -> 16456:airport dist=763 >,\n",
       "  'e': <Node:airport id=\"16456\" date= country=US code=JFK longest=14511 city=New York author= lon=-73.77890015 type=airport elev=12 icao=KJFK region=US-NY runways=4 lat=40.63980103 desc=New York John F. Kennedy International Airport >},\n",
       " {'n': <Node:airport id=\"4112\" date= country=US code=BNA longest=11030 city=Nashville author= lon=-86.6781997680664 type=airport elev=599 icao=KBNA region=US-TN runways=4 lat=36.1245002746582 desc=Nashville International Airport >,\n",
       "  'v': <RelationShip:route id=\"1qd4y-368-f11-cpc\" 4112:airport -> route -> 16464:airport dist=1972 >,\n",
       "  'e': <Node:airport id=\"16464\" date= country=US code=SEA longest=11901 city=Seattle author= lon=-122.30899810791 type=airport elev=432 icao=KSEA region=US-WA runways=3 lat=47.4490013122559 desc=Seattle-Tacoma >},\n",
       " {'n': <Node:airport id=\"4112\" date= country=US code=BNA longest=11030 city=Nashville author= lon=-86.6781997680664 type=airport elev=599 icao=KBNA region=US-TN runways=4 lat=36.1245002746582 desc=Nashville International Airport >,\n",
       "  'v': <RelationShip:route id=\"1qepu-368-f11-cq0\" 4112:airport -> route -> 16488:airport dist=1400 >,\n",
       "  'e': <Node:airport id=\"16488\" date= country=US code=SLC longest=12002 city=Salt Lake City author= lon=-111.977996826172 type=airport elev=56 icao=KSLC region=US-UT runways=4 lat=40.7883987426758 desc=Salt Lake City >},\n",
       " {'n': <Node:airport id=\"4112\" date= country=US code=BNA longest=11030 city=Nashville author= lon=-86.6781997680664 type=airport elev=599 icao=KBNA region=US-TN runways=4 lat=36.1245002746582 desc=Nashville International Airport >,\n",
       "  'v': <RelationShip:route id=\"1s9vm-368-f11-cq8\" 4112:airport -> route -> 16496:airport dist=641 >,\n",
       "  'e': <Node:airport id=\"16496\" date= country=CA code=YYZ longest=11120 city=Toronto author= lon=-79.6305999756 type=airport elev=569 icao=CYYZ region=CA-ON runways=5 lat=43.6772003174 desc=Toronto Pearson International Airport >},\n",
       " {'n': <Node:airport id=\"4112\" date= country=US code=BNA longest=11030 city=Nashville author= lon=-86.6781997680664 type=airport elev=599 icao=KBNA region=US-TN runways=4 lat=36.1245002746582 desc=Nashville International Airport >,\n",
       "  'v': <RelationShip:route id=\"1qhvm-368-f11-cqw\" 4112:airport -> route -> 16520:airport dist=448 >,\n",
       "  'e': <Node:airport id=\"16520\" date= country=US code=CLE longest=9956 city=Cleveland author= lon=-81.8498001099 type=airport elev=799 icao=KCLE region=US-OH runways=3 lat=41.4117012024 desc=Cleveland, Hopkins International Airport >},\n",
       " {'n': <Node:airport id=\"4112\" date= country=US code=BNA longest=11030 city=Nashville author= lon=-86.6781997680664 type=airport elev=599 icao=KBNA region=US-TN runways=4 lat=36.1245002746582 desc=Nashville International Airport >,\n",
       "  'v': <RelationShip:route id=\"1sa9u-368-f11-csw\" 4112:airport -> route -> 16592:airport dist=4168 >,\n",
       "  'e': <Node:airport id=\"16592\" date= country=UK code=LHR longest=12799 city=London author= lon=-0.461941003799 type=airport elev=83 icao=EGLL region=GB-ENG runways=2 lat=51.4706001282 desc=London Heathrow >},\n",
       " {'n': <Node:airport id=\"4112\" date= country=US code=BNA longest=11030 city=Nashville author= lon=-86.6781997680664 type=airport elev=599 icao=KBNA region=US-TN runways=4 lat=36.1245002746582 desc=Nashville International Airport >,\n",
       "  'v': <RelationShip:route id=\"1qh36-368-f11-ftc\" 4112:airport -> route -> 20496:airport dist=481 >,\n",
       "  'e': <Node:airport id=\"20496\" date= country=US code=CID longest=8600 city=Cedar Rapids author= lon=-91.7108001708984 type=airport elev=869 icao=KCID region=US-IA runways=2 lat=41.8847007751465 desc=The Eastern Iowa Airport >},\n",
       " {'n': <Node:airport id=\"4112\" date= country=US code=BNA longest=11030 city=Nashville author= lon=-86.6781997680664 type=airport elev=599 icao=KBNA region=US-TN runways=4 lat=36.1245002746582 desc=Nashville International Airport >,\n",
       "  'v': <RelationShip:route id=\"1qb5u-368-f11-fuw\" 4112:airport -> route -> 20552:airport dist=806 >,\n",
       "  'e': <Node:airport id=\"20552\" date= country=US code=MIA longest=13016 city=Miami author= lon=-80.2906036376953 type=airport elev=8 icao=KMIA region=US-FL runways=4 lat=25.7931995391846 desc=Miami International Airport >},\n",
       " {'n': <Node:airport id=\"4112\" date= country=US code=BNA longest=11030 city=Nashville author= lon=-86.6781997680664 type=airport elev=599 icao=KBNA region=US-TN runways=4 lat=36.1245002746582 desc=Nashville International Airport >,\n",
       "  'v': <RelationShip:route id=\"1qfia-368-f11-fv4\" 4112:airport -> route -> 20560:airport dist=1010 >,\n",
       "  'e': <Node:airport id=\"20560\" date= country=US code=DEN longest=16000 city=Denver author= lon=-104.672996520996 type=airport elev=5433 icao=KDEN region=US-CO runways=6 lat=39.8616981506348 desc=Denver International Airport >},\n",
       " {'n': <Node:airport id=\"4112\" date= country=US code=BNA longest=11030 city=Nashville author= lon=-86.6781997680664 type=airport elev=599 icao=KBNA region=US-TN runways=4 lat=36.1245002746582 desc=Nashville International Airport >,\n",
       "  'v': <RelationShip:route id=\"1qfwi-368-f11-fvs\" 4112:airport -> route -> 20584:airport dist=820 >,\n",
       "  'e': <Node:airport id=\"20584\" date= country=US code=SAT longest=8505 city=San Antonio author= lon=-98.4698028564453 type=airport elev=809 icao=KSAT region=US-TX runways=3 lat=29.5337009429932 desc=San Antonio >},\n",
       " {'n': <Node:airport id=\"4112\" date= country=US code=BNA longest=11030 city=Nashville author= lon=-86.6781997680664 type=airport elev=599 icao=KBNA region=US-TN runways=4 lat=36.1245002746582 desc=Nashville International Airport >,\n",
       "  'v': <RelationShip:route id=\"1sao2-368-f11-fw8\" 4112:airport -> route -> 20600:airport dist=723 >,\n",
       "  'e': <Node:airport id=\"20600\" date= country=US code=RSW longest=12000 city=Fort Myers author= lon=-81.7552032470703 type=airport elev=30 icao=KRSW region=US-FL runways=1 lat=26.5361995697021 desc=Southwest Florida International Airport >},\n",
       " {'n': <Node:airport id=\"4112\" date= country=US code=BNA longest=11030 city=Nashville author= lon=-86.6781997680664 type=airport elev=599 icao=KBNA region=US-TN runways=4 lat=36.1245002746582 desc=Nashville International Airport >,\n",
       "  'v': <RelationShip:route id=\"1qcci-368-f11-j0o\" 4112:airport -> route -> 24648:airport dist=1444 >,\n",
       "  'e': <Node:airport id=\"24648\" date= country=US code=PHX longest=11489 city=Phoenix author= lon=-112.012001037598 type=airport elev=1135 icao=KPHX region=US-AZ runways=3 lat=33.4342994689941 desc=Phoenix Sky Harbor International Airport >},\n",
       " {'n': <Node:airport id=\"4112\" date= country=US code=BNA longest=11030 city=Nashville author= lon=-86.6781997680664 type=airport elev=599 icao=KBNA region=US-TN runways=4 lat=36.1245002746582 desc=Nashville International Airport >,\n",
       "  'v': <RelationShip:route id=\"1qgoy-368-f11-j0w\" 4112:airport -> route -> 24656:airport dist=745 >,\n",
       "  'e': <Node:airport id=\"24656\" date= country=US code=EWR longest=11000 city=Newark author= lon=-74.168701171875 type=airport elev=17 icao=KEWR region=US-NY runways=3 lat=40.6925010681152 desc=Newark, Liberty >},\n",
       " {'n': <Node:airport id=\"4112\" date= country=US code=BNA longest=11030 city=Nashville author= lon=-86.6781997680664 type=airport elev=599 icao=KBNA region=US-TN runways=4 lat=36.1245002746582 desc=Nashville International Airport >,\n",
       "  'v': <RelationShip:route id=\"1qj2a-368-f11-m4w\" 4112:airport -> route -> 28688:airport dist=456 >,\n",
       "  'e': <Node:airport id=\"28688\" date= country=US code=DTW longest=12003 city=Detroit author= lon=-83.353401184082 type=airport elev=645 icao=KDTW region=US-MI runways=6 lat=42.2123985290527 desc=Detroit Metropolitan, Wayne County >},\n",
       " {'n': <Node:airport id=\"4112\" date= country=US code=BNA longest=11030 city=Nashville author= lon=-86.6781997680664 type=airport elev=599 icao=KBNA region=US-TN runways=4 lat=36.1245002746582 desc=Nashville International Airport >,\n",
       "  'v': <RelationShip:route id=\"1qcqq-368-f11-m6g\" 4112:airport -> route -> 28744:airport dist=441 >,\n",
       "  'e': <Node:airport id=\"28744\" date= country=US code=RDU longest=10000 city=Raleigh author= lon=-78.7874984741211 type=airport elev=435 icao=KRDU region=US-NC runways=3 lat=35.8776016235352 desc=Raleigh-Durham >},\n",
       " {'n': <Node:airport id=\"4112\" date= country=US code=BNA longest=11030 city=Nashville author= lon=-86.6781997680664 type=airport elev=599 icao=KBNA region=US-TN runways=4 lat=36.1245002746582 desc=Nashville International Airport >,\n",
       "  'v': <RelationShip:route id=\"1sb2a-368-f11-sjs\" 4112:airport -> route -> 37000:airport dist=1698 >,\n",
       "  'e': <Node:airport id=\"37000\" date= country=CA code=YYC longest=12675 city=Calgary author= lon=-114.019996643 type=airport elev=3557 icao=CYYC region=CA-AB runways=3 lat=51.113899231 desc=Calgary International Airport >},\n",
       " {'n': <Node:airport id=\"4112\" date= country=US code=BNA longest=11030 city=Nashville author= lon=-86.6781997680664 type=airport elev=599 icao=KBNA region=US-TN runways=4 lat=36.1245002746582 desc=Nashville International Airport >,\n",
       "  'v': <RelationShip:route id=\"1qf42-368-f11-ytk\" 4112:airport -> route -> 45128:airport dist=1582 >,\n",
       "  'e': <Node:airport id=\"45128\" date= country=US code=LAS longest=14512 city=Las Vegas author= lon=-115.1520004 type=airport elev=2181 icao=KLAS region=US-NV runways=4 lat=36.08010101 desc=Las Vegas Mc Carran >},\n",
       " {'n': <Node:airport id=\"4112\" date= country=US code=BNA longest=11030 city=Nashville author= lon=-86.6781997680664 type=airport elev=599 icao=KBNA region=US-TN runways=4 lat=36.1245002746582 desc=Nashville International Airport >,\n",
       "  'v': <RelationShip:route id=\"1qgaq-368-f11-11zc\" 4112:airport -> route -> 49224:airport dist=471 >,\n",
       "  'e': <Node:airport id=\"49224\" date= country=US code=MSY longest=10104 city=New Orleans author= lon=-90.2580032348633 type=airport elev=3 icao=KMSY region=US-LA runways=2 lat=29.9934005737305 desc=New Orleans L. Armstrong >},\n",
       " {'n': <Node:airport id=\"4112\" date= country=US code=BNA longest=11030 city=Nashville author= lon=-86.6781997680664 type=airport elev=599 icao=KBNA region=US-TN runways=4 lat=36.1245002746582 desc=Nashville International Airport >,\n",
       "  'v': <RelationShip:route id=\"1sbgi-368-f11-1560\" 4112:airport -> route -> 53352:airport dist=461 >,\n",
       "  'e': <Node:airport id=\"53352\" date= country=US code=PIT longest=11500 city=Pittsburgh author= lon=-80.23290253 type=airport elev=1203 icao=KPIT region=US-PA runways=4 lat=40.49150085 desc=Pittsburgh International Airport >},\n",
       " {'n': <Node:airport id=\"4112\" date= country=US code=BNA longest=11030 city=Nashville author= lon=-86.6781997680664 type=airport elev=599 icao=KBNA region=US-TN runways=4 lat=36.1245002746582 desc=Nashville International Airport >,\n",
       "  'v': <RelationShip:route id=\"1sc8y-368-f11-18c8\" 4112:airport -> route -> 57464:airport dist=614 >,\n",
       "  'e': <Node:airport id=\"57464\" date= country=US code=OKC longest=9800 city=Oaklahoma City author= lon=-97.600700378418 type=airport elev=1295 icao=KOKC region=US-OK runways=4 lat=35.3931007385254 desc=Oaklahoma City, Will Rogers World Airport >},\n",
       " {'n': <Node:airport id=\"4112\" date= country=US code=BNA longest=11030 city=Nashville author= lon=-86.6781997680664 type=airport elev=599 icao=KBNA region=US-TN runways=4 lat=36.1245002746582 desc=Nashville International Airport >,\n",
       "  'v': <RelationShip:route id=\"1sd1e-368-f11-1big\" 4112:airport -> route -> 61576:airport dist=1042 >,\n",
       "  'e': <Node:airport id=\"61576\" date= country=MX code=CUN longest=11483 city=Cancun author= lon=-86.8770980835 type=airport elev=22 icao=MMUN region=MX-ROO runways=2 lat=21.0365009308 desc=Cancun International Airport >},\n",
       " {'n': <Node:airport id=\"4112\" date= country=US code=BNA longest=11030 city=Nashville author= lon=-86.6781997680664 type=airport elev=599 icao=KBNA region=US-TN runways=4 lat=36.1245002746582 desc=Nashville International Airport >,\n",
       "  'v': <RelationShip:route id=\"1sdtu-368-f11-1enc\" 4112:airport -> route -> 65640:airport dist=230 >,\n",
       "  'e': <Node:airport id=\"65640\" date= country=US code=CVG longest=12000 city=Cincinnati author= lon=-84.6678009033 type=airport elev=896 icao=KCVG region=US-KY runways=4 lat=39.0488014221 desc=Cincinnati Northern Kentucky International Airport >},\n",
       " {'n': <Node:airport id=\"4112\" date= country=US code=BNA longest=11030 city=Nashville author= lon=-86.6781997680664 type=airport elev=599 icao=KBNA region=US-TN runways=4 lat=36.1245002746582 desc=Nashville International Airport >,\n",
       "  'v': <RelationShip:route id=\"1sdfm-368-f11-1eo8\" 4112:airport -> route -> 65672:airport dist=200 >,\n",
       "  'e': <Node:airport id=\"65672\" date= country=US code=MEM longest=11120 city=Memphis author= lon=-89.9766998291016 type=airport elev=341 icao=KMEM region=US-TN runways=4 lat=35.0424003601074 desc=Memphis International Airport >},\n",
       " {'n': <Node:airport id=\"4112\" date= country=US code=BNA longest=11030 city=Nashville author= lon=-86.6781997680664 type=airport elev=599 icao=KBNA region=US-TN runways=4 lat=36.1245002746582 desc=Nashville International Airport >,\n",
       "  'v': <RelationShip:route id=\"1sbuq-368-f11-1hqo\" 4112:airport -> route -> 69648:airport dist=1967 >,\n",
       "  'e': <Node:airport id=\"69648\" date= country=US code=PDX longest=11000 city=Portland author= lon=-122.5979996 type=airport elev=31 icao=KPDX region=US-OR runways=3 lat=45.58869934 desc=Portland International Airport >},\n",
       " {'n': <Node:airport id=\"4112\" date= country=US code=BNA longest=11030 city=Nashville author= lon=-86.6781997680664 type=airport elev=599 icao=KBNA region=US-TN runways=4 lat=36.1245002746582 desc=Nashville International Airport >,\n",
       "  'v': <RelationShip:route id=\"1sema-368-f11-1ht4\" 4112:airport -> route -> 69736:airport dist=621 >,\n",
       "  'e': <Node:airport id=\"69736\" date= country=US code=DAL longest=8800 city=Dallas author= lon=-96.8517990112305 type=airport elev=487 icao=KDAL region=US-TX runways=3 lat=32.8470993041992 desc=Dallas Love Field >},\n",
       " {'n': <Node:airport id=\"4112\" date= country=US code=BNA longest=11030 city=Nashville author= lon=-86.6781997680664 type=airport elev=599 icao=KBNA region=US-TN runways=4 lat=36.1245002746582 desc=Nashville International Airport >,\n",
       "  'v': <RelationShip:route id=\"1se82-368-f11-1kz4\" 4112:airport -> route -> 73840:airport dist=490 >,\n",
       "  'e': <Node:airport id=\"73840\" date= country=US code=MCI longest=10801 city=Kansas City author= lon=-94.7138977050781 type=airport elev=1026 icao=KMCI region=US-MO runways=3 lat=39.2975997924805 desc=Kansas City International Airport >},\n",
       " {'n': <Node:airport id=\"4112\" date= country=US code=BNA longest=11030 city=Nashville author= lon=-86.6781997680664 type=airport elev=599 icao=KBNA region=US-TN runways=4 lat=36.1245002746582 desc=Nashville International Airport >,\n",
       "  'v': <RelationShip:route id=\"1sfsy-368-f11-1raw\" 4112:airport -> route -> 82040:airport dist=395 >,\n",
       "  'e': <Node:airport id=\"82040\" date= country=US code=MDW longest=6522 city=Chicago author= lon=-87.7524032592773 type=airport elev=620 icao=KMDW region=US-IL runways=5 lat=41.7859992980957 desc=Chicago Midway International Airport >},\n",
       " {'n': <Node:airport id=\"4112\" date= country=US code=BNA longest=11030 city=Nashville author= lon=-86.6781997680664 type=airport elev=599 icao=KBNA region=US-TN runways=4 lat=36.1245002746582 desc=Nashville International Airport >,\n",
       "  'v': <RelationShip:route id=\"1scn6-368-f11-1uj4\" 4112:airport -> route -> 86224:airport dist=328 >,\n",
       "  'e': <Node:airport id=\"86224\" date= country=US code=CLT longest=10000 city=Charlotte author= lon=-80.9430999755859 type=airport elev=748 icao=KCLT region=US-NC runways=4 lat=35.2140007019043 desc=Charlotte Douglas International Airport >},\n",
       " {'n': <Node:airport id=\"4112\" date= country=US code=BNA longest=11030 city=Nashville author= lon=-86.6781997680664 type=airport elev=599 icao=KBNA region=US-TN runways=4 lat=36.1245002746582 desc=Nashville International Airport >,\n",
       "  'v': <RelationShip:route id=\"1sgle-368-f11-23y0\" 4112:airport -> route -> 98424:airport dist=905 >,\n",
       "  'e': <Node:airport id=\"98424\" date= country=US code=PVD longest=7166 city=Providence author= lon=-71.4204025268555 type=airport elev=55 icao=KPVD region=US-RI runways=2 lat=41.7326011657715 desc=Providence, Theodore Francis Green State Airport >},\n",
       " {'n': <Node:airport id=\"4112\" date= country=US code=BNA longest=11030 city=Nashville author= lon=-86.6781997680664 type=airport elev=599 icao=KBNA region=US-TN runways=4 lat=36.1245002746582 desc=Nashville International Airport >,\n",
       "  'v': <RelationShip:route id=\"1shs2-368-f11-2408\" 4112:airport -> route -> 98504:airport dist=337 >,\n",
       "  'e': <Node:airport id=\"98504\" date= country=US code=CMH longest=10125 city=Columbus author= lon=-82.8918991088867 type=airport elev=815 icao=KCMH region=US-OH runways=2 lat=39.9980010986328 desc=Columbus, Port Columbus International Airport >},\n",
       " {'n': <Node:airport id=\"4112\" date= country=US code=BNA longest=11030 city=Nashville author= lon=-86.6781997680664 type=airport elev=599 icao=KBNA region=US-TN runways=4 lat=36.1245002746582 desc=Nashville International Airport >,\n",
       "  'v': <RelationShip:route id=\"1sg76-368-f11-2gnk\" 4112:airport -> route -> 114896:airport dist=484 >,\n",
       "  'e': <Node:airport id=\"114896\" date= country=US code=JAX longest=10000 city=Jacksonville author= lon=-81.6878967285156 type=airport elev=30 icao=KJAX region=US-FL runways=2 lat=30.4941005706787 desc=Jacksonville International Airport >},\n",
       " {'n': <Node:airport id=\"4112\" date= country=US code=BNA longest=11030 city=Nashville author= lon=-86.6781997680664 type=airport elev=599 icao=KBNA region=US-TN runways=4 lat=36.1245002746582 desc=Nashville International Airport >,\n",
       "  'v': <RelationShip:route id=\"1shdu-368-f11-2jqo\" 4112:airport -> route -> 118896:airport dist=402 >,\n",
       "  'e': <Node:airport id=\"118896\" date= country=US code=ECP longest=10000 city=Panama City Beach author= lon=-85.7973 type=airport elev=69 icao=KECP region=US-FL runways=1 lat=30.3417 desc=Northwest Florida Beaches International Airport >},\n",
       " {'n': <Node:airport id=\"4112\" date= country=US code=BNA longest=11030 city=Nashville author= lon=-86.6781997680664 type=airport elev=599 icao=KBNA region=US-TN runways=4 lat=36.1245002746582 desc=Nashville International Airport >,\n",
       "  'v': <RelationShip:route id=\"1si6a-368-f11-2we0\" 4112:airport -> route -> 135288:airport dist=526 >,\n",
       "  'e': <Node:airport id=\"135288\" date= country=US code=RIC longest=9003 city=Richmond author= lon=-77.3197021484375 type=airport elev=167 icao=KRIC region=US-VA runways=3 lat=37.505199432373 desc=Richmond International Airport >},\n",
       " {'n': <Node:airport id=\"4112\" date= country=US code=BNA longest=11030 city=Nashville author= lon=-86.6781997680664 type=airport elev=599 icao=KBNA region=US-TN runways=4 lat=36.1245002746582 desc=Nashville International Airport >,\n",
       "  'v': <RelationShip:route id=\"1skjm-368-f11-3c6g\" 4112:airport -> route -> 155752:airport dist=390 >,\n",
       "  'e': <Node:airport id=\"155752\" date= country=US code=VPS longest=12005 city=Valparaiso author= lon=-86.5253982543945 type=airport elev=87 icao=KVPS region=US-FL runways=2 lat=30.4832000732422 desc=Eglin Air Force Base >},\n",
       " {'n': <Node:airport id=\"4112\" date= country=US code=BNA longest=11030 city=Nashville author= lon=-86.6781997680664 type=airport elev=599 icao=KBNA region=US-TN runways=4 lat=36.1245002746582 desc=Nashville International Airport >,\n",
       "  'v': <RelationShip:route id=\"1slc2-368-f11-3c7c\" 4112:airport -> route -> 155784:airport dist=649 >,\n",
       "  'e': <Node:airport id=\"155784\" date= country=US code=SRQ longest=9500 city=Sarasota/Bradenton author= lon=-82.5543975830078 type=airport elev=30 icao=KSRQ region=US-FL runways=2 lat=27.3953990936279 desc=Sarasota Bradenton International Airport >},\n",
       " {'n': <Node:airport id=\"4112\" date= country=US code=BNA longest=11030 city=Nashville author= lon=-86.6781997680664 type=airport elev=599 icao=KBNA region=US-TN runways=4 lat=36.1245002746582 desc=Nashville International Airport >,\n",
       "  'v': <RelationShip:route id=\"1siki-368-f11-3iig\" 4112:airport -> route -> 163960:airport dist=470 >,\n",
       "  'e': <Node:airport id=\"163960\" date= country=US code=MYR longest=9503 city=Myrtle Beach author= lon=-78.9282989502 type=airport elev=25 icao=KMYR region=US-SC runways=1 lat=33.6796989441 desc=Myrtle Beach International Airport >},\n",
       " {'n': <Node:airport id=\"4112\" date= country=US code=BNA longest=11030 city=Nashville author= lon=-86.6781997680664 type=airport elev=599 icao=KBNA region=US-TN runways=4 lat=36.1245002746582 desc=Nashville International Airport >,\n",
       "  'v': <RelationShip:route id=\"1sjcy-368-f11-3rzs\" 4112:airport -> route -> 176248:airport dist=265 >,\n",
       "  'e': <Node:airport id=\"176248\" date= country=US code=GSP longest=11000 city=Greenville author= lon=-82.2189025879 type=airport elev=964 icao=KGSP region=US-SC runways=1 lat=34.8956985474 desc=Greenville Spartanburg International Airport >},\n",
       " {'n': <Node:airport id=\"4112\" date= country=US code=BNA longest=11030 city=Nashville author= lon=-86.6781997680664 type=airport elev=599 icao=KBNA region=US-TN runways=4 lat=36.1245002746582 desc=Nashville International Airport >,\n",
       "  'v': <RelationShip:route id=\"1skxu-368-f11-3s28\" 4112:airport -> route -> 176336:airport dist=740 >,\n",
       "  'e': <Node:airport id=\"176336\" date= country=US code=SYR longest=9003 city=Syracuse author= lon=-76.1063003540039 type=airport elev=421 icao=KSYR region=US-NY runways=3 lat=43.111198425293 desc=Syracuse Hancock International Airport >},\n",
       " {'n': <Node:airport id=\"4112\" date= country=US code=BNA longest=11030 city=Nashville author= lon=-86.6781997680664 type=airport elev=599 icao=KBNA region=US-TN runways=4 lat=36.1245002746582 desc=Nashville International Airport >,\n",
       "  'v': <RelationShip:route id=\"1sk5e-368-f11-3v7s\" 4112:airport -> route -> 180424:airport dist=417 >,\n",
       "  'e': <Node:airport id=\"180424\" date= country=US code=SAV longest=9351 city=Savannah author= lon=-81.20210266 type=airport elev=50 icao=KSAV region=US-GA runways=2 lat=32.12760162 desc=Savannah Hilton Head International Airport >},\n",
       " {'n': <Node:airport id=\"4112\" date= country=US code=BNA longest=11030 city=Nashville author= lon=-86.6781997680664 type=airport elev=599 icao=KBNA region=US-TN runways=4 lat=36.1245002746582 desc=Nashville International Airport >,\n",
       "  'v': <RelationShip:route id=\"1sf0i-368-f11-3ya0\" 4112:airport -> route -> 184392:airport dist=272 >,\n",
       "  'e': <Node:airport id=\"184392\" date= country=US code=STL longest=11019 city=St Louis author= lon=-90.370002746582 type=airport elev=618 icao=KSTL region=US-MO runways=4 lat=38.7486991882324 desc=Lambert St Louis International Airport >},\n",
       " {'n': <Node:airport id=\"4112\" date= country=US code=BNA longest=11030 city=Nashville author= lon=-86.6781997680664 type=airport elev=599 icao=KBNA region=US-TN runways=4 lat=36.1245002746582 desc=Nashville International Airport >,\n",
       "  'v': <RelationShip:route id=\"1sfeq-368-f11-41fs\" 4112:airport -> route -> 188488:airport dist=476 >,\n",
       "  'e': <Node:airport id=\"188488\" date= country=US code=MKE longest=9690 city=Milwaukee author= lon=-87.896598815918 type=airport elev=723 icao=KMKE region=US-WI runways=5 lat=42.9472007751465 desc=General Mitchell International Airport >},\n",
       " {'n': <Node:airport id=\"4112\" date= country=US code=BNA longest=11030 city=Nashville author= lon=-86.6781997680664 type=airport elev=599 icao=KBNA region=US-TN runways=4 lat=36.1245002746582 desc=Nashville International Airport >,\n",
       "  'v': <RelationShip:route id=\"1sjr6-368-f11-41gw\" 4112:airport -> route -> 188528:airport dist=391 >,\n",
       "  'e': <Node:airport id=\"188528\" date= country=US code=PNS longest=7004 city=Pensacola author= lon=-87.1865997314453 type=airport elev=121 icao=KPNS region=US-FL runways=2 lat=30.4734001159668 desc=Pensacola Regional Airport >},\n",
       " {'n': <Node:airport id=\"4112\" date= country=US code=BNA longest=11030 city=Nashville author= lon=-86.6781997680664 type=airport elev=599 icao=KBNA region=US-TN runways=4 lat=36.1245002746582 desc=Nashville International Airport >,\n",
       "  'v': <RelationShip:route id=\"1sgzm-368-f11-4tvs\" 4112:airport -> route -> 225352:airport dist=632 >,\n",
       "  'e': <Node:airport id=\"225352\" date= country=US code=BUF longest=8102 city=Buffalo author= lon=-78.73220062 type=airport elev=728 icao=KBUF region=US-NY runways=2 lat=42.94049835 desc=Buffalo Niagara International Airport >},\n",
       " {'n': <Node:airport id=\"4112\" date= country=US code=BNA longest=11030 city=Nashville author= lon=-86.6781997680664 type=airport elev=599 icao=KBNA region=US-TN runways=4 lat=36.1245002746582 desc=Nashville International Airport >,\n",
       "  'v': <RelationShip:route id=\"1slqa-368-f11-4x00\" 4112:airport -> route -> 229392:airport dist=598 >,\n",
       "  'e': <Node:airport id=\"229392\" date= country=US code=SFB longest=9600 city=Orlando author= lon=-81.2375030517578 type=airport elev=55 icao=KSFB region=US-FL runways=4 lat=28.7775993347168 desc=Orlando Sanford International Airport >},\n",
       " {'n': <Node:airport id=\"4112\" date= country=US code=BNA longest=11030 city=Nashville author= lon=-86.6781997680664 type=airport elev=599 icao=KBNA region=US-TN runways=4 lat=36.1245002746582 desc=Nashville International Airport >,\n",
       "  'v': <RelationShip:route id=\"1smiq-368-f11-5csw\" 4112:airport -> route -> 249872:airport dist=109 >,\n",
       "  'e': <Node:airport id=\"249872\" date= country=US code=MSL longest=6693 city=Muscle Shoals author= lon=-87.61019897 type=airport elev=551 icao=KMSL region=US-AL runways=2 lat=34.74530029 desc=Northwest Alabama Regional Airport >},\n",
       " {'n': <Node:airport id=\"4112\" date= country=US code=BNA longest=11030 city=Nashville author= lon=-86.6781997680664 type=airport elev=599 icao=KBNA region=US-TN runways=4 lat=36.1245002746582 desc=Nashville International Airport >,\n",
       "  'v': <RelationShip:route id=\"1snb6-368-f11-5g0g\" 4112:airport -> route -> 254032:airport dist=174 >,\n",
       "  'e': <Node:airport id=\"254032\" date= country=US code=TUP longest=6500 city=Tupelo author= lon=-88.7698974609375 type=airport elev=346 icao=KTUP region=US-MS runways=1 lat=34.2681007385254 desc=Tupelo Regional Airport >},\n",
       " {'n': <Node:airport id=\"4112\" date= country=US code=BNA longest=11030 city=Nashville author= lon=-86.6781997680664 type=airport elev=599 icao=KBNA region=US-TN runways=4 lat=36.1245002746582 desc=Nashville International Airport >,\n",
       "  'v': <RelationShip:route id=\"1smwy-368-f11-5g1k\" 4112:airport -> route -> 254072:airport dist=704 >,\n",
       "  'e': <Node:airport id=\"254072\" date= country=US code=TTN longest=6006 city=Trenton author= lon=-74.8134994506836 type=airport elev=213 icao=KTTN region=US-NJ runways=2 lat=40.2766990661621 desc=Trenton Mercer Airport >},\n",
       " {'n': <Node:airport id=\"4112\" date= country=US code=BNA longest=11030 city=Nashville author= lon=-86.6781997680664 type=airport elev=599 icao=KBNA region=US-TN runways=4 lat=36.1245002746582 desc=Nashville International Airport >,\n",
       "  'v': <RelationShip:route id=\"1siyq-368-f11-7adk\" 4112:airport -> route -> 340040:airport dist=438 >,\n",
       "  'e': <Node:airport id=\"340040\" date= country=US code=CHS longest=9001 city=Charleston author= lon=-80.04049683 type=airport elev=46 icao=KCHS region=US-SC runways=2 lat=32.89860153 desc=Charleston Air Force Base-International Airport >},\n",
       " {'n': <Node:airport id=\"4112\" date= country=US code=BNA longest=11030 city=Nashville author= lon=-86.6781997680664 type=airport elev=599 icao=KBNA region=US-TN runways=4 lat=36.1245002746582 desc=Nashville International Airport >,\n",
       "  'v': <RelationShip:route id=\"1snpe-368-f11-9kko\" 4112:airport -> route -> 446568:airport dist=242 >,\n",
       "  'e': <Node:airport id=\"446568\" date= country=US code=AHN longest=5522 city=Athens author= lon=-83.326301574707 type=airport elev=808 icao=KAHN region=US-GA runways=2 lat=33.948600769043 desc=Athens Ben Epps Airport >},\n",
       " {'n': <Node:airport id=\"4112\" date= country=US code=BNA longest=11030 city=Nashville author= lon=-86.6781997680664 type=airport elev=599 icao=KBNA region=US-TN runways=4 lat=36.1245002746582 desc=Nashville International Airport >,\n",
       "  'v': <RelationShip:route id=\"1sohu-368-f11-a9sg\" 4112:airport -> route -> 479248:airport dist=613 >,\n",
       "  'e': <Node:airport id=\"479248\" date= country=US code=PIE longest=8800 city=St Petersburg-Clearwater author= lon=-82.68740082 type=airport elev=11 icao=KPIE region=US-FL runways=4 lat=27.91020012 desc=St Petersburg Clearwater International Airport >},\n",
       " {'n': <Node:airport id=\"4112\" date= country=US code=BNA longest=11030 city=Nashville author= lon=-86.6781997680664 type=airport elev=599 icao=KBNA region=US-TN runways=4 lat=36.1245002746582 desc=Nashville International Airport >,\n",
       "  'v': <RelationShip:route id=\"1so3m-368-f11-a9u8\" 4112:airport -> route -> 479312:airport dist=130 >,\n",
       "  'e': <Node:airport id=\"479312\" date= country=US code=MKL longest=6006 city=Jackson author= lon=-88.91560364 type=airport elev=434 icao=KMKL region=US-TN runways=2 lat=35.59989929 desc=Mc Kellar Sipes Regional Airport >},\n",
       " {'n': <Node:airport id=\"4112\" date= country=US code=BNA longest=11030 city=Nashville author= lon=-86.6781997680664 type=airport elev=599 icao=KBNA region=US-TN runways=4 lat=36.1245002746582 desc=Nashville International Airport >,\n",
       "  'v': <RelationShip:route id=\"1sm4i-368-f11-bxvs\" 4112:airport -> route -> 557128:airport dist=683 >,\n",
       "  'e': <Node:airport id=\"557128\" date= country=US code=ABE longest=7600 city=Allentown author= lon=-75.440803527832 type=airport elev=393 icao=KABE region=US-PA runways=2 lat=40.652099609375 desc=Lehigh Valley International Airport >},\n",
       " {'n': <Node:airport id=\"4112\" date= country=US code=BNA longest=11030 city=Nashville author= lon=-86.6781997680664 type=airport elev=599 icao=KBNA region=US-TN runways=4 lat=36.1245002746582 desc=Nashville International Airport >,\n",
       "  'v': <RelationShip:route id=\"1sow2-368-f11-c7e8\" 4112:airport -> route -> 569456:airport dist=693 >,\n",
       "  'e': <Node:airport id=\"569456\" date= country=US code=PGD longest=6695 city=Punta Gorda author= lon=-81.9905014 type=airport elev=26 icao=KPGD region=US-FL runways=3 lat=26.92020035 desc=Charlotte County Airport >}]"
      ]
     },
     "execution_count": 7,
     "metadata": {},
     "output_type": "execute_result"
    }
   ],
   "source": [
    "# get all outE relationships of Npde\n",
    "graph_search.graph.V().hasId(4112).as_(\"n\").outE() \\\n",
    ".project('n','v','e') \\\n",
    ".by(__.select(\"n\")) \\\n",
    ".by() \\\n",
    ".by(__.otherV()).toList()"
   ]
  },
  {
   "cell_type": "markdown",
   "metadata": {},
   "source": []
  }
 ],
 "metadata": {
  "kernelspec": {
   "display_name": "query-builder-EE7shD6S",
   "language": "python",
   "name": "python3"
  },
  "language_info": {
   "codemirror_mode": {
    "name": "ipython",
    "version": 3
   },
   "file_extension": ".py",
   "mimetype": "text/x-python",
   "name": "python",
   "nbconvert_exporter": "python",
   "pygments_lexer": "ipython3",
   "version": "3.12.0"
  }
 },
 "nbformat": 4,
 "nbformat_minor": 2
}
