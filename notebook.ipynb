{
 "cells": [
  {
   "cell_type": "code",
   "execution_count": 43,
   "metadata": {},
   "outputs": [
    {
     "name": "stdout",
     "output_type": "stream",
     "text": [
      "========message_serializer <gremlin_python.driver.serializer.GraphSONMessageSerializer object at 0x107eb1ac0>\n",
      "Graphsearch is using gremlinpython==3.7.1\n"
     ]
    }
   ],
   "source": [
    "from gremlin_python.driver.aiohttp.transport import AiohttpTransport\n",
    "from graph_search.graph_search import GraphSearch, __\n",
    "from gremlin_python.process.traversal import P, TextP, Bytecode, Cardinality\n",
    "from gremlin_python.process.translator import Order\n",
    "\n",
    "\n",
    "graph_search = GraphSearch( \"ws://localhost:8182/gremlin\", \n",
    "                    transport_factory=lambda:AiohttpTransport(call_from_event_loop=True)\n",
    "                    )\n",
    "\n",
    "\n",
    "g = graph_search.graph"
   ]
  },
  {
   "cell_type": "code",
   "execution_count": 44,
   "metadata": {},
   "outputs": [
    {
     "data": {
      "text/plain": [
       "[<Node:airport id=\"4112\" date= country=US code=BNA longest=11030 city=Nashville author= lon=-86.6781997680664 type=airport elev=599 icao=KBNA region=US-TN runways=4 lat=36.1245002746582 desc=Nashville International Airport >]"
      ]
     },
     "execution_count": 44,
     "metadata": {},
     "output_type": "execute_result"
    }
   ],
   "source": [
    "g.V().has('code', 'BNA').limit(1).element_map().toList()"
   ]
  },
  {
   "cell_type": "code",
   "execution_count": 45,
   "metadata": {},
   "outputs": [
    {
     "data": {
      "text/plain": [
       "[{'nodes': <Node:airport id=\"4112\" date= country=US code=BNA longest=11030 city=Nashville author= lon=-86.6781997680664 type=airport elev=599 icao=KBNA region=US-TN runways=4 lat=36.1245002746582 desc=Nashville International Airport >,\n",
       "  'out_e': <RelationShip:route id=\"1q802-368-f11-38o\" 4112:airport -> route -> 4200:airport dist=630 >,\n",
       "  'in_e': <RelationShip:route id=\"1t6od-38o-f11-368\" 4200:airport -> route -> 4112:airport dist=630 >}]"
      ]
     },
     "execution_count": 45,
     "metadata": {},
     "output_type": "execute_result"
    }
   ],
   "source": [
    "# graph_search.graph.V().has('code', 'BNA').inE().toList()\n",
    "\n",
    "# get nodes, out_e, in_e\n",
    "g.V().has('code', 'BNA').as_('node') \\\n",
    ".project('nodes','out_e', 'in_e') \\\n",
    ".by(__.as_(\"node\")) \\\n",
    ".by(__.outE()) \\\n",
    ".by(__.inE()) \\\n",
    ".to_list()"
   ]
  },
  {
   "cell_type": "code",
   "execution_count": 46,
   "metadata": {},
   "outputs": [
    {
     "name": "stdout",
     "output_type": "stream",
     "text": [
      "[{'v': 1556600, 'e': 989}, {'v': 1445904, 'e': 971}, {'v': 1593544, 'e': 604}, {'v': 1429584, 'e': 586}, {'v': 3096648, 'e': 321}]\n"
     ]
    }
   ],
   "source": [
    "# get nodes and their `outE` counts \n",
    "data = g.V().project('v','e') \\\n",
    ".by(__.id_()).by(__.outE().count()) \\\n",
    ".order().by(\"e\", Order.desc).limit(5).toList()\n",
    "\n",
    "\n",
    "print(data)\n",
    "# for d in data:\n",
    "#     print(d)"
   ]
  },
  {
   "cell_type": "code",
   "execution_count": 47,
   "metadata": {},
   "outputs": [
    {
     "data": {
      "text/plain": [
       "[{'v': 4112, 'e': True}, {'v': 8208, 'e': True}]"
      ]
     },
     "execution_count": 47,
     "metadata": {},
     "output_type": "execute_result"
    }
   ],
   "source": [
    "# get nodes and if there are any `outE` edges \n",
    "g.V().limit(2) \\\n",
    ".project('v','e') \\\n",
    ".by(__.id_()).by(__.coalesce(__.outE().limit(1).constant(True),__.constant(False))).toList()"
   ]
  },
  {
   "cell_type": "code",
   "execution_count": 48,
   "metadata": {},
   "outputs": [
    {
     "data": {
      "text/plain": [
       "[path[<Node:airport id=\"4112\" date= country=US code=BNA longest=11030 city=Nashville author= lon=-86.6781997680664 type=airport elev=599 icao=KBNA region=US-TN runways=4 lat=36.1245002746582 desc=Nashville International Airport >, <RelationShip:route id=\"1q802-368-f11-38o\" 4112:airport -> route -> 4200:airport dist=630 >, <Node:airport id=\"4200\" date= country=US code=DFW longest=13401 city=Dallas author= lon=-97.0380020141602 type=airport elev=607 icao=KDFW region=US-TX runways=7 lat=32.896800994873 desc=Dallas/Fort Worth International Airport >],\n",
       " path[<Node:airport id=\"4112\" date= country=US code=BNA longest=11030 city=Nashville author= lon=-86.6781997680664 type=airport elev=599 icao=KBNA region=US-TN runways=4 lat=36.1245002746582 desc=Nashville International Airport >, <RelationShip:route id=\"1q96q-368-f11-38w\" 4112:airport -> route -> 4208:airport dist=657 >, <Node:airport id=\"4208\" date= country=US code=IAH longest=12001 city=Houston author= lon=-95.3414001464844 type=airport elev=96 icao=KIAH region=US-TX runways=5 lat=29.9843997955322 desc=George Bush Intercontinental >],\n",
       " path[<Node:airport id=\"4112\" date= country=US code=BNA longest=11030 city=Nashville author= lon=-86.6781997680664 type=airport elev=599 icao=KBNA region=US-TN runways=4 lat=36.1245002746582 desc=Nashville International Airport >, <RelationShip:route id=\"1qebm-368-f11-394\" 4112:airport -> route -> 4216:airport dist=1746 >, <Node:airport id=\"4216\" date= country=US code=SAN longest=9400 city=San Diego author= lon=-117.190002441 type=airport elev=16 icao=KSAN region=US-CA runways=1 lat=32.7336006165 desc=San Diego Lindbergh >],\n",
       " path[<Node:airport id=\"4112\" date= country=US code=BNA longest=11030 city=Nashville author= lon=-86.6781997680664 type=airport elev=599 icao=KBNA region=US-TN runways=4 lat=36.1245002746582 desc=Nashville International Airport >, <RelationShip:route id=\"1q6f6-368-f11-39k\" 4112:airport -> route -> 4232:airport dist=755 >, <Node:airport id=\"4232\" date= country=US code=AUS longest=12250 city=Austin author= lon=-97.6698989868164 type=airport elev=542 icao=KAUS region=US-TX runways=2 lat=30.1944999694824 desc=Austin Bergstrom International Airport >],\n",
       " path[<Node:airport id=\"4112\" date= country=US code=BNA longest=11030 city=Nashville author= lon=-86.6781997680664 type=airport elev=599 icao=KBNA region=US-TN runways=4 lat=36.1245002746582 desc=Nashville International Airport >, <RelationShip:route id=\"1qade-368-f11-3bc\" 4112:airport -> route -> 4296:airport dist=762 >, <Node:airport id=\"4296\" date= country=US code=LGA longest=7003 city=New York author= lon=-73.87259674 type=airport elev=20 icao=KLGA region=US-NY runways=2 lat=40.77719879 desc=New York La Guardia >]]"
      ]
     },
     "execution_count": 48,
     "metadata": {},
     "output_type": "execute_result"
    }
   ],
   "source": [
    "# get all outE relationships of Npde\n",
    "g.V().hasId(4112).has('code', 'BNA').outE().inV().path().by(__.elementMap()).limit(5).toList()"
   ]
  },
  {
   "cell_type": "code",
   "execution_count": 49,
   "metadata": {},
   "outputs": [
    {
     "data": {
      "text/plain": [
       "[{'n': <Node:airport id=\"4112\" date= country=US code=BNA longest=11030 city=Nashville author= lon=-86.6781997680664 type=airport elev=599 icao=KBNA region=US-TN runways=4 lat=36.1245002746582 desc=Nashville International Airport >,\n",
       "  'v': <RelationShip:route id=\"1q802-368-f11-38o\" 4112:airport -> route -> 4200:airport dist=630 >,\n",
       "  'e': <Node:airport id=\"4200\" date= country=US code=DFW longest=13401 city=Dallas author= lon=-97.0380020141602 type=airport elev=607 icao=KDFW region=US-TX runways=7 lat=32.896800994873 desc=Dallas/Fort Worth International Airport >},\n",
       " {'n': <Node:airport id=\"4112\" date= country=US code=BNA longest=11030 city=Nashville author= lon=-86.6781997680664 type=airport elev=599 icao=KBNA region=US-TN runways=4 lat=36.1245002746582 desc=Nashville International Airport >,\n",
       "  'v': <RelationShip:route id=\"1q96q-368-f11-38w\" 4112:airport -> route -> 4208:airport dist=657 >,\n",
       "  'e': <Node:airport id=\"4208\" date= country=US code=IAH longest=12001 city=Houston author= lon=-95.3414001464844 type=airport elev=96 icao=KIAH region=US-TX runways=5 lat=29.9843997955322 desc=George Bush Intercontinental >}]"
      ]
     },
     "execution_count": 49,
     "metadata": {},
     "output_type": "execute_result"
    }
   ],
   "source": [
    "# get all outE relationships of Npde\n",
    "g.V().hasId(4112).as_(\"n\").outE() \\\n",
    ".project('n','v','e') \\\n",
    ".by(__.select(\"n\")) \\\n",
    ".by() \\\n",
    ".by(__.otherV()).limit(2).toList()"
   ]
  },
  {
   "cell_type": "markdown",
   "metadata": {},
   "source": []
  },
  {
   "cell_type": "code",
   "execution_count": 50,
   "metadata": {},
   "outputs": [
    {
     "data": {
      "text/plain": [
       "382"
      ]
     },
     "execution_count": 50,
     "metadata": {},
     "output_type": "execute_result"
    }
   ],
   "source": [
    "# filter by traversal conditions: relationships count\n",
    "# g.V().hasLabel('airport').where(__.outE().count().is_(P.lt(1))).count().next()\n",
    "g.V().hasLabel('airport').where(\n",
    "    __.and_(\n",
    "        __.outE().count().is_(P.gte(10)),\n",
    "        __.outE().count().is_(P.lte(20))\n",
    "    )\n",
    ").count().next()\n"
   ]
  },
  {
   "cell_type": "code",
   "execution_count": 51,
   "metadata": {},
   "outputs": [
    {
     "data": {
      "text/plain": [
       "[{'v': 143376, 'e': 1},\n",
       " {'v': 303120, 'e': 1},\n",
       " {'v': 307216, 'e': 1},\n",
       " {'v': 335888, 'e': 1},\n",
       " {'v': 376848, 'e': 1},\n",
       " {'v': 385040, 'e': 1},\n",
       " {'v': 417808, 'e': 1},\n",
       " {'v': 430096, 'e': 1},\n",
       " {'v': 438288, 'e': 1},\n",
       " {'v': 446480, 'e': 1}]"
      ]
     },
     "execution_count": 51,
     "metadata": {},
     "output_type": "execute_result"
    }
   ],
   "source": [
    "# get vertices, ordered by __.outE (desc)\n",
    "\n",
    "g.V() \\\n",
    ".project('v','e') \\\n",
    ".by(__.id_()) \\\n",
    ".by( \n",
    "    __.outE().count().is_(P.lt(2))\n",
    ")\\\n",
    ".order().by(\"e\", Order.desc) \\\n",
    ".limit(10).select(\"v\", \"e\").to_list()\n"
   ]
  },
  {
   "cell_type": "code",
   "execution_count": 52,
   "metadata": {},
   "outputs": [
    {
     "data": {
      "text/plain": [
       "322"
      ]
     },
     "execution_count": 52,
     "metadata": {},
     "output_type": "execute_result"
    }
   ],
   "source": [
    "# filter by traversal conditions: relationships count\n",
    "# g.V().hasLabel('airport').where(__.outE().count().is_(P.lt(1))).count().next()\n",
    "g.V().hasLabel('airport').where(\n",
    "    __.and_(\n",
    "        __.outE().count().is_(P.gt(10)),\n",
    "        __.and_(\n",
    "            __.outE().count().is_(P.gte(10)),\n",
    "            __.outE().count().is_(P.lte(20))\n",
    "        )\n",
    "    )\n",
    ").count().next()\n"
   ]
  },
  {
   "cell_type": "code",
   "execution_count": 53,
   "metadata": {},
   "outputs": [
    {
     "data": {
      "text/plain": [
       "[<Node:airport id=\"4112\" date= country=US code=BNA longest=11030 city=Nashville author= lon=-86.6781997680664 type=airport elev=599 icao=KBNA region=US-TN runways=4 lat=36.1245002746582 desc=Nashville International Airport >]"
      ]
     },
     "execution_count": 53,
     "metadata": {},
     "output_type": "execute_result"
    }
   ],
   "source": [
    "g.V().hasId(4112).has('code', 'BNA').element_map().to_list()\n",
    "# .order().by(\"dist\", Order.asc)"
   ]
  }
 ],
 "metadata": {
  "kernelspec": {
   "display_name": "query-builder-EE7shD6S",
   "language": "python",
   "name": "python3"
  },
  "language_info": {
   "codemirror_mode": {
    "name": "ipython",
    "version": 3
   },
   "file_extension": ".py",
   "mimetype": "text/x-python",
   "name": "python",
   "nbconvert_exporter": "python",
   "pygments_lexer": "ipython3",
   "version": "3.12.0"
  }
 },
 "nbformat": 4,
 "nbformat_minor": 2
}
