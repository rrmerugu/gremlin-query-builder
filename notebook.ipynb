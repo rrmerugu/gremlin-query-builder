{
 "cells": [
  {
   "cell_type": "code",
   "execution_count": 18,
   "metadata": {},
   "outputs": [
    {
     "name": "stdout",
     "output_type": "stream",
     "text": [
      "Graphsearch is using gremlinpython==3.5.1\n"
     ]
    }
   ],
   "source": [
    "from gremlin_python.driver.aiohttp.transport import AiohttpTransport\n",
    "from graph_search.graph_search import GraphSearch, __\n",
    "from gremlin_python.process.traversal import P, TextP, Bytecode, Cardinality\n",
    "from gremlin_python.process.translator import Order\n",
    "\n",
    "\n",
    "graph_search = GraphSearch( \"ws://localhost:8182/gremlin\", \n",
    "                    transport_factory=lambda:AiohttpTransport(call_from_event_loop=True))\n",
    "\n",
    "g = graph_search.graph"
   ]
  },
  {
   "cell_type": "code",
   "execution_count": 19,
   "metadata": {},
   "outputs": [
    {
     "data": {
      "text/plain": [
       "[<Node:airport id=\"4112\" date= country=US code=BNA longest=11030 city=Nashville author= lon=-86.6781997680664 type=airport elev=599 icao=KBNA region=US-TN runways=4 lat=36.1245002746582 desc=Nashville International Airport >]"
      ]
     },
     "execution_count": 19,
     "metadata": {},
     "output_type": "execute_result"
    }
   ],
   "source": [
    "g.V().has('code', 'BNA').limit(1).elementMap().toList()"
   ]
  },
  {
   "cell_type": "code",
   "execution_count": 20,
   "metadata": {},
   "outputs": [
    {
     "data": {
      "text/plain": [
       "[{'nodes': <Node:airport id=\"4112\" date= country=US code=BNA longest=11030 city=Nashville author= lon=-86.6781997680664 type=airport elev=599 icao=KBNA region=US-TN runways=4 lat=36.1245002746582 desc=Nashville International Airport >,\n",
       "  'out_e': <RelationShip:route id=\"1q802-368-f11-38o\" 4112:airport -> route -> 4200:airport dist=630 >,\n",
       "  'in_e': <RelationShip:route id=\"1t6od-38o-f11-368\" 4200:airport -> route -> 4112:airport dist=630 >}]"
      ]
     },
     "execution_count": 20,
     "metadata": {},
     "output_type": "execute_result"
    }
   ],
   "source": [
    "# graph_search.graph.V().has('code', 'BNA').inE().toList()\n",
    "\n",
    "# get nodes, out_e, in_e\n",
    "g.V().has('code', 'BNA').as_('node') \\\n",
    ".project('nodes','out_e', 'in_e') \\\n",
    ".by(__.as_(\"node\")) \\\n",
    ".by(__.outE()) \\\n",
    ".by(__.inE()) \\\n",
    ".toList()"
   ]
  },
  {
   "cell_type": "code",
   "execution_count": 21,
   "metadata": {},
   "outputs": [
    {
     "name": "stdout",
     "output_type": "stream",
     "text": [
      "{'v': 1556600, 'e': 989}\n",
      "{'v': 1445904, 'e': 971}\n",
      "{'v': 1593544, 'e': 604}\n",
      "{'v': 1429584, 'e': 586}\n",
      "{'v': 3096648, 'e': 321}\n"
     ]
    }
   ],
   "source": [
    "# get nodes and their `outE` counts \n",
    "data = g.V().project('v','e') \\\n",
    ".by(__.id()).by(__.outE().count()) \\\n",
    ".order().by(\"e\", Order.desc).limit(5).toList()\n",
    "\n",
    "for d in data:\n",
    "    print(d)"
   ]
  },
  {
   "cell_type": "code",
   "execution_count": 22,
   "metadata": {},
   "outputs": [
    {
     "data": {
      "text/plain": [
       "[{'v': 4112, 'e': True}, {'v': 8208, 'e': True}]"
      ]
     },
     "execution_count": 22,
     "metadata": {},
     "output_type": "execute_result"
    }
   ],
   "source": [
    "# get nodes and if there are any `outE` edges \n",
    "g.V().limit(2) \\\n",
    ".project('v','e') \\\n",
    ".by(__.id()).by(__.coalesce(__.outE().limit(1).constant(True),__.constant(False))).toList()"
   ]
  },
  {
   "cell_type": "code",
   "execution_count": 23,
   "metadata": {},
   "outputs": [
    {
     "data": {
      "text/plain": [
       "[path[<Node:airport id=\"4112\" date= country=US code=BNA longest=11030 city=Nashville author= lon=-86.6781997680664 type=airport elev=599 icao=KBNA region=US-TN runways=4 lat=36.1245002746582 desc=Nashville International Airport >, <RelationShip:route id=\"1q802-368-f11-38o\" 4112:airport -> route -> 4200:airport dist=630 >, <Node:airport id=\"4200\" date= country=US code=DFW longest=13401 city=Dallas author= lon=-97.0380020141602 type=airport elev=607 icao=KDFW region=US-TX runways=7 lat=32.896800994873 desc=Dallas/Fort Worth International Airport >],\n",
       " path[<Node:airport id=\"4112\" date= country=US code=BNA longest=11030 city=Nashville author= lon=-86.6781997680664 type=airport elev=599 icao=KBNA region=US-TN runways=4 lat=36.1245002746582 desc=Nashville International Airport >, <RelationShip:route id=\"1q96q-368-f11-38w\" 4112:airport -> route -> 4208:airport dist=657 >, <Node:airport id=\"4208\" date= country=US code=IAH longest=12001 city=Houston author= lon=-95.3414001464844 type=airport elev=96 icao=KIAH region=US-TX runways=5 lat=29.9843997955322 desc=George Bush Intercontinental >],\n",
       " path[<Node:airport id=\"4112\" date= country=US code=BNA longest=11030 city=Nashville author= lon=-86.6781997680664 type=airport elev=599 icao=KBNA region=US-TN runways=4 lat=36.1245002746582 desc=Nashville International Airport >, <RelationShip:route id=\"1qebm-368-f11-394\" 4112:airport -> route -> 4216:airport dist=1746 >, <Node:airport id=\"4216\" date= country=US code=SAN longest=9400 city=San Diego author= lon=-117.190002441 type=airport elev=16 icao=KSAN region=US-CA runways=1 lat=32.7336006165 desc=San Diego Lindbergh >],\n",
       " path[<Node:airport id=\"4112\" date= country=US code=BNA longest=11030 city=Nashville author= lon=-86.6781997680664 type=airport elev=599 icao=KBNA region=US-TN runways=4 lat=36.1245002746582 desc=Nashville International Airport >, <RelationShip:route id=\"1q6f6-368-f11-39k\" 4112:airport -> route -> 4232:airport dist=755 >, <Node:airport id=\"4232\" date= country=US code=AUS longest=12250 city=Austin author= lon=-97.6698989868164 type=airport elev=542 icao=KAUS region=US-TX runways=2 lat=30.1944999694824 desc=Austin Bergstrom International Airport >],\n",
       " path[<Node:airport id=\"4112\" date= country=US code=BNA longest=11030 city=Nashville author= lon=-86.6781997680664 type=airport elev=599 icao=KBNA region=US-TN runways=4 lat=36.1245002746582 desc=Nashville International Airport >, <RelationShip:route id=\"1qade-368-f11-3bc\" 4112:airport -> route -> 4296:airport dist=762 >, <Node:airport id=\"4296\" date= country=US code=LGA longest=7003 city=New York author= lon=-73.87259674 type=airport elev=20 icao=KLGA region=US-NY runways=2 lat=40.77719879 desc=New York La Guardia >]]"
      ]
     },
     "execution_count": 23,
     "metadata": {},
     "output_type": "execute_result"
    }
   ],
   "source": [
    "# get all outE relationships of Npde\n",
    "g.V().hasId(4112).has('code', 'BNA').outE().inV().path().by(__.elementMap()).limit(5).toList()"
   ]
  },
  {
   "cell_type": "code",
   "execution_count": 24,
   "metadata": {},
   "outputs": [
    {
     "data": {
      "text/plain": [
       "[{'n': <Node:airport id=\"4112\" date= country=US code=BNA longest=11030 city=Nashville author= lon=-86.6781997680664 type=airport elev=599 icao=KBNA region=US-TN runways=4 lat=36.1245002746582 desc=Nashville International Airport >,\n",
       "  'v': <RelationShip:route id=\"1q802-368-f11-38o\" 4112:airport -> route -> 4200:airport dist=630 >,\n",
       "  'e': <Node:airport id=\"4200\" date= country=US code=DFW longest=13401 city=Dallas author= lon=-97.0380020141602 type=airport elev=607 icao=KDFW region=US-TX runways=7 lat=32.896800994873 desc=Dallas/Fort Worth International Airport >},\n",
       " {'n': <Node:airport id=\"4112\" date= country=US code=BNA longest=11030 city=Nashville author= lon=-86.6781997680664 type=airport elev=599 icao=KBNA region=US-TN runways=4 lat=36.1245002746582 desc=Nashville International Airport >,\n",
       "  'v': <RelationShip:route id=\"1q96q-368-f11-38w\" 4112:airport -> route -> 4208:airport dist=657 >,\n",
       "  'e': <Node:airport id=\"4208\" date= country=US code=IAH longest=12001 city=Houston author= lon=-95.3414001464844 type=airport elev=96 icao=KIAH region=US-TX runways=5 lat=29.9843997955322 desc=George Bush Intercontinental >}]"
      ]
     },
     "execution_count": 24,
     "metadata": {},
     "output_type": "execute_result"
    }
   ],
   "source": [
    "# get all outE relationships of Npde\n",
    "g.V().hasId(4112).as_(\"n\").outE() \\\n",
    ".project('n','v','e') \\\n",
    ".by(__.select(\"n\")) \\\n",
    ".by() \\\n",
    ".by(__.otherV()).limit(2).toList()"
   ]
  },
  {
   "cell_type": "markdown",
   "metadata": {},
   "source": []
  },
  {
   "cell_type": "code",
   "execution_count": 25,
   "metadata": {},
   "outputs": [
    {
     "data": {
      "text/plain": [
       "382"
      ]
     },
     "execution_count": 25,
     "metadata": {},
     "output_type": "execute_result"
    }
   ],
   "source": [
    "# filter by traversal conditions: relationships count\n",
    "# g.V().hasLabel('airport').where(__.outE().count().is_(P.lt(1))).count().next()\n",
    "g.V().hasLabel('airport').where(\n",
    "    __.and_(\n",
    "        __.outE().count().is_(P.gte(10)),\n",
    "        __.outE().count().is_(P.lte(20))\n",
    "    )\n",
    ").count().next()\n"
   ]
  },
  {
   "cell_type": "code",
   "execution_count": 26,
   "metadata": {},
   "outputs": [
    {
     "data": {
      "text/plain": [
       "[{'v': 143376, 'e': 1},\n",
       " {'v': 303120, 'e': 1},\n",
       " {'v': 307216, 'e': 1},\n",
       " {'v': 335888, 'e': 1},\n",
       " {'v': 376848, 'e': 1},\n",
       " {'v': 385040, 'e': 1},\n",
       " {'v': 417808, 'e': 1},\n",
       " {'v': 430096, 'e': 1},\n",
       " {'v': 438288, 'e': 1},\n",
       " {'v': 446480, 'e': 1}]"
      ]
     },
     "execution_count": 26,
     "metadata": {},
     "output_type": "execute_result"
    }
   ],
   "source": [
    "# get vertices, ordered by __.outE (desc)\n",
    "\n",
    "g.V() \\\n",
    ".project('v','e') \\\n",
    ".by(__.id()) \\\n",
    ".by( \n",
    "    __.outE().count().is_(P.lt(2))\n",
    ")\\\n",
    ".order().by(\"e\", Order.desc) \\\n",
    ".limit(10).select(\"v\", \"e\").toList()\n"
   ]
  },
  {
   "cell_type": "code",
   "execution_count": 27,
   "metadata": {},
   "outputs": [
    {
     "data": {
      "text/plain": [
       "322"
      ]
     },
     "execution_count": 27,
     "metadata": {},
     "output_type": "execute_result"
    }
   ],
   "source": [
    "# filter by traversal conditions: relationships count\n",
    "# g.V().hasLabel('airport').where(__.outE().count().is_(P.lt(1))).count().next()\n",
    "g.V().hasLabel('airport').where(\n",
    "    __.and_(\n",
    "        __.outE().count().is_(P.gt(10)),\n",
    "        __.and_(\n",
    "            __.outE().count().is_(P.gte(10)),\n",
    "            __.outE().count().is_(P.lte(20))\n",
    "        )\n",
    "    )\n",
    ").count().next()\n"
   ]
  },
  {
   "cell_type": "code",
   "execution_count": 32,
   "metadata": {},
   "outputs": [
    {
     "data": {
      "text/plain": [
       "[<RelationShip:route id=\"1q6te-368-f11-6fc\" 4112:airport -> route -> 8328:airport dist=939 >,\n",
       " <RelationShip:route id=\"1sgle-368-f11-23y0\" 4112:airport -> route -> 98424:airport dist=905 >,\n",
       " <RelationShip:route id=\"1qfwi-368-f11-fvs\" 4112:airport -> route -> 20584:airport dist=820 >,\n",
       " <RelationShip:route id=\"1qb5u-368-f11-fuw\" 4112:airport -> route -> 20552:airport dist=806 >,\n",
       " <RelationShip:route id=\"1q8ea-368-f11-6hc\" 4112:airport -> route -> 8400:airport dist=793 >,\n",
       " <RelationShip:route id=\"1q9ky-368-f11-cp4\" 4112:airport -> route -> 16456:airport dist=763 >,\n",
       " <RelationShip:route id=\"1qade-368-f11-3bc\" 4112:airport -> route -> 4296:airport dist=762 >,\n",
       " <RelationShip:route id=\"1q6f6-368-f11-39k\" 4112:airport -> route -> 4232:airport dist=755 >,\n",
       " <RelationShip:route id=\"1qgoy-368-f11-j0w\" 4112:airport -> route -> 24656:airport dist=745 >,\n",
       " <RelationShip:route id=\"1skxu-368-f11-3s28\" 4112:airport -> route -> 176336:airport dist=740 >,\n",
       " <RelationShip:route id=\"1sao2-368-f11-fw8\" 4112:airport -> route -> 20600:airport dist=723 >,\n",
       " <RelationShip:route id=\"1smwy-368-f11-5g1k\" 4112:airport -> route -> 254072:airport dist=704 >,\n",
       " <RelationShip:route id=\"1qbk2-368-f11-6c0\" 4112:airport -> route -> 8208:airport dist=694 >,\n",
       " <RelationShip:route id=\"1sow2-368-f11-c7e8\" 4112:airport -> route -> 569456:airport dist=693 >,\n",
       " <RelationShip:route id=\"1sm4i-368-f11-bxvs\" 4112:airport -> route -> 557128:airport dist=683 >,\n",
       " <RelationShip:route id=\"1qio2-368-f11-9mw\" 4112:airport -> route -> 12488:airport dist=674 >,\n",
       " <RelationShip:route id=\"1qhhe-368-f11-9n4\" 4112:airport -> route -> 12496:airport dist=669 >,\n",
       " <RelationShip:route id=\"1q96q-368-f11-38w\" 4112:airport -> route -> 4208:airport dist=657 >,\n",
       " <RelationShip:route id=\"1slc2-368-f11-3c7c\" 4112:airport -> route -> 155784:airport dist=649 >,\n",
       " <RelationShip:route id=\"1s9vm-368-f11-cq8\" 4112:airport -> route -> 16496:airport dist=641 >,\n",
       " <RelationShip:route id=\"1sgzm-368-f11-4tvs\" 4112:airport -> route -> 225352:airport dist=632 >,\n",
       " <RelationShip:route id=\"1q802-368-f11-38o\" 4112:airport -> route -> 4200:airport dist=630 >,\n",
       " <RelationShip:route id=\"1sema-368-f11-1ht4\" 4112:airport -> route -> 69736:airport dist=621 >,\n",
       " <RelationShip:route id=\"1qarm-368-f11-9jk\" 4112:airport -> route -> 12368:airport dist=616 >,\n",
       " <RelationShip:route id=\"1sc8y-368-f11-18c8\" 4112:airport -> route -> 57464:airport dist=614 >,\n",
       " <RelationShip:route id=\"1sohu-368-f11-a9sg\" 4112:airport -> route -> 479248:airport dist=613 >,\n",
       " <RelationShip:route id=\"1qdxe-368-f11-cnk\" 4112:airport -> route -> 16400:airport dist=612 >,\n",
       " <RelationShip:route id=\"1slqa-368-f11-4x00\" 4112:airport -> route -> 229392:airport dist=598 >,\n",
       " <RelationShip:route id=\"1q77m-368-f11-3bk\" 4112:airport -> route -> 4304:airport dist=586 >,\n",
       " <RelationShip:route id=\"1q7lu-368-f11-6ds\" 4112:airport -> route -> 8272:airport dist=560 >,\n",
       " <RelationShip:route id=\"1q8si-368-f11-9jc\" 4112:airport -> route -> 12360:airport dist=540 >,\n",
       " <RelationShip:route id=\"1si6a-368-f11-2we0\" 4112:airport -> route -> 135288:airport dist=526 >,\n",
       " <RelationShip:route id=\"1se82-368-f11-1kz4\" 4112:airport -> route -> 73840:airport dist=490 >,\n",
       " <RelationShip:route id=\"1sg76-368-f11-2gnk\" 4112:airport -> route -> 114896:airport dist=484 >,\n",
       " <RelationShip:route id=\"1qh36-368-f11-ftc\" 4112:airport -> route -> 20496:airport dist=481 >,\n",
       " <RelationShip:route id=\"1sfeq-368-f11-41fs\" 4112:airport -> route -> 188488:airport dist=476 >,\n",
       " <RelationShip:route id=\"1qgaq-368-f11-11zc\" 4112:airport -> route -> 49224:airport dist=471 >,\n",
       " <RelationShip:route id=\"1siki-368-f11-3iig\" 4112:airport -> route -> 163960:airport dist=470 >,\n",
       " <RelationShip:route id=\"1sbgi-368-f11-1560\" 4112:airport -> route -> 53352:airport dist=461 >,\n",
       " <RelationShip:route id=\"1qj2a-368-f11-m4w\" 4112:airport -> route -> 28688:airport dist=456 >,\n",
       " <RelationShip:route id=\"1qhvm-368-f11-cqw\" 4112:airport -> route -> 16520:airport dist=448 >,\n",
       " <RelationShip:route id=\"1qcqq-368-f11-m6g\" 4112:airport -> route -> 28744:airport dist=441 >,\n",
       " <RelationShip:route id=\"1siyq-368-f11-7adk\" 4112:airport -> route -> 340040:airport dist=438 >,\n",
       " <RelationShip:route id=\"1sk5e-368-f11-3v7s\" 4112:airport -> route -> 180424:airport dist=417 >,\n",
       " <RelationShip:route id=\"1sa9u-368-f11-csw\" 4112:airport -> route -> 16592:airport dist=4168 >,\n",
       " <RelationShip:route id=\"1qbya-368-f11-6eo\" 4112:airport -> route -> 8304:airport dist=409 >,\n",
       " <RelationShip:route id=\"1shdu-368-f11-2jqo\" 4112:airport -> route -> 118896:airport dist=402 >,\n",
       " <RelationShip:route id=\"1sfsy-368-f11-1raw\" 4112:airport -> route -> 82040:airport dist=395 >,\n",
       " <RelationShip:route id=\"1sjr6-368-f11-41gw\" 4112:airport -> route -> 188528:airport dist=391 >,\n",
       " <RelationShip:route id=\"1skjm-368-f11-3c6g\" 4112:airport -> route -> 155752:airport dist=390 >,\n",
       " <RelationShip:route id=\"1shs2-368-f11-2408\" 4112:airport -> route -> 98504:airport dist=337 >,\n",
       " <RelationShip:route id=\"1scn6-368-f11-1uj4\" 4112:airport -> route -> 86224:airport dist=328 >,\n",
       " <RelationShip:route id=\"1sf0i-368-f11-3ya0\" 4112:airport -> route -> 184392:airport dist=272 >,\n",
       " <RelationShip:route id=\"1sjcy-368-f11-3rzs\" 4112:airport -> route -> 176248:airport dist=265 >,\n",
       " <RelationShip:route id=\"1snpe-368-f11-9kko\" 4112:airport -> route -> 446568:airport dist=242 >,\n",
       " <RelationShip:route id=\"1sdtu-368-f11-1enc\" 4112:airport -> route -> 65640:airport dist=230 >,\n",
       " <RelationShip:route id=\"1q60y-368-f11-6dk\" 4112:airport -> route -> 8264:airport dist=214 >,\n",
       " <RelationShip:route id=\"1sdfm-368-f11-1eo8\" 4112:airport -> route -> 65672:airport dist=200 >,\n",
       " <RelationShip:route id=\"1qd4y-368-f11-cpc\" 4112:airport -> route -> 16464:airport dist=1972 >,\n",
       " <RelationShip:route id=\"1sbuq-368-f11-1hqo\" 4112:airport -> route -> 69648:airport dist=1967 >,\n",
       " <RelationShip:route id=\"1qdj6-368-f11-9hs\" 4112:airport -> route -> 12304:airport dist=1963 >,\n",
       " <RelationShip:route id=\"1qi9u-368-f11-9kg\" 4112:airport -> route -> 12400:airport dist=1953 >,\n",
       " <RelationShip:route id=\"1q9z6-368-f11-6eg\" 4112:airport -> route -> 8296:airport dist=1790 >,\n",
       " <RelationShip:route id=\"1qebm-368-f11-394\" 4112:airport -> route -> 4216:airport dist=1746 >,\n",
       " <RelationShip:route id=\"1snb6-368-f11-5g0g\" 4112:airport -> route -> 254032:airport dist=174 >,\n",
       " <RelationShip:route id=\"1sb2a-368-f11-sjs\" 4112:airport -> route -> 37000:airport dist=1698 >,\n",
       " <RelationShip:route id=\"1qf42-368-f11-ytk\" 4112:airport -> route -> 45128:airport dist=1582 >,\n",
       " <RelationShip:route id=\"1qcci-368-f11-j0o\" 4112:airport -> route -> 24648:airport dist=1444 >,\n",
       " <RelationShip:route id=\"1qepu-368-f11-cq0\" 4112:airport -> route -> 16488:airport dist=1400 >,\n",
       " <RelationShip:route id=\"1so3m-368-f11-a9u8\" 4112:airport -> route -> 479312:airport dist=130 >,\n",
       " <RelationShip:route id=\"1smiq-368-f11-5csw\" 4112:airport -> route -> 249872:airport dist=109 >,\n",
       " <RelationShip:route id=\"1sd1e-368-f11-1big\" 4112:airport -> route -> 61576:airport dist=1042 >,\n",
       " <RelationShip:route id=\"1qfia-368-f11-fv4\" 4112:airport -> route -> 20560:airport dist=1010 >]"
      ]
     },
     "execution_count": 32,
     "metadata": {},
     "output_type": "execute_result"
    }
   ],
   "source": [
    "g.V().hasId(4112).has('code', 'BNA').outE().order().by(\"dist\", Order.asc).toList()"
   ]
  }
 ],
 "metadata": {
  "kernelspec": {
   "display_name": "query-builder-EE7shD6S",
   "language": "python",
   "name": "python3"
  },
  "language_info": {
   "codemirror_mode": {
    "name": "ipython",
    "version": 3
   },
   "file_extension": ".py",
   "mimetype": "text/x-python",
   "name": "python",
   "nbconvert_exporter": "python",
   "pygments_lexer": "ipython3",
   "version": "3.12.0"
  }
 },
 "nbformat": 4,
 "nbformat_minor": 2
}
