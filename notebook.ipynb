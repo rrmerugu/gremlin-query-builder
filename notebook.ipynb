{
 "cells": [
  {
   "cell_type": "code",
   "execution_count": 25,
   "metadata": {},
   "outputs": [
    {
     "name": "stdout",
     "output_type": "stream",
     "text": [
      "Graphsearch is using gremlinpython==3.5.1\n"
     ]
    }
   ],
   "source": [
    "from gremlin_python.driver.aiohttp.transport import AiohttpTransport\n",
    "from graph_search.graph_search import GraphSearch, __\n",
    "from gremlin_python.process.traversal import P, TextP, Bytecode, Cardinality\n",
    "from gremlin_python.process.translator import Order\n",
    "\n",
    "\n",
    "graph_search = GraphSearch( \"ws://localhost:8182/gremlin\", \n",
    "                    transport_factory=lambda:AiohttpTransport(call_from_event_loop=True))\n",
    "\n",
    "g = graph_search.graph"
   ]
  },
  {
   "cell_type": "code",
   "execution_count": 2,
   "metadata": {},
   "outputs": [
    {
     "data": {
      "text/plain": [
       "[<Node:airport id=\"4112\" date= country=US code=BNA longest=11030 city=Nashville author= lon=-86.6781997680664 type=airport elev=599 icao=KBNA region=US-TN runways=4 lat=36.1245002746582 desc=Nashville International Airport >]"
      ]
     },
     "execution_count": 2,
     "metadata": {},
     "output_type": "execute_result"
    }
   ],
   "source": [
    "g.V().has('code', 'BNA').limit(1).elementMap().toList()"
   ]
  },
  {
   "cell_type": "code",
   "execution_count": 3,
   "metadata": {},
   "outputs": [
    {
     "data": {
      "text/plain": [
       "[{'nodes': <Node:airport id=\"4112\" date= country=US code=BNA longest=11030 city=Nashville author= lon=-86.6781997680664 type=airport elev=599 icao=KBNA region=US-TN runways=4 lat=36.1245002746582 desc=Nashville International Airport >,\n",
       "  'out_e': <RelationShip:route id=\"1q802-368-f11-38o\" 4112:airport -> route -> 4200:airport dist=630 >,\n",
       "  'in_e': <RelationShip:route id=\"1t6od-38o-f11-368\" 4200:airport -> route -> 4112:airport dist=630 >}]"
      ]
     },
     "execution_count": 3,
     "metadata": {},
     "output_type": "execute_result"
    }
   ],
   "source": [
    "# graph_search.graph.V().has('code', 'BNA').inE().toList()\n",
    "\n",
    "# get nodes, out_e, in_e\n",
    "g.V().has('code', 'BNA').as_('node') \\\n",
    ".project('nodes','out_e', 'in_e') \\\n",
    ".by(__.as_(\"node\")) \\\n",
    ".by(__.outE()) \\\n",
    ".by(__.inE()) \\\n",
    ".toList()"
   ]
  },
  {
   "cell_type": "code",
   "execution_count": 29,
   "metadata": {},
   "outputs": [
    {
     "name": "stdout",
     "output_type": "stream",
     "text": [
      "{'v': 1556600, 'e': 989}\n",
      "{'v': 1445904, 'e': 971}\n",
      "{'v': 1593544, 'e': 604}\n",
      "{'v': 1429584, 'e': 586}\n",
      "{'v': 3096648, 'e': 321}\n"
     ]
    }
   ],
   "source": [
    "# get nodes and their `outE` counts \n",
    "data = g.V().project('v','e') \\\n",
    ".by(__.id()).by(__.outE().count()) \\\n",
    ".order().by(\"e\", Order.desc).limit(5).toList()\n",
    "\n",
    "for d in data:\n",
    "    print(d)"
   ]
  },
  {
   "cell_type": "code",
   "execution_count": 5,
   "metadata": {},
   "outputs": [
    {
     "data": {
      "text/plain": [
       "[{'v': 4112, 'e': True}, {'v': 8208, 'e': True}]"
      ]
     },
     "execution_count": 5,
     "metadata": {},
     "output_type": "execute_result"
    }
   ],
   "source": [
    "# get nodes and if there are any `outE` edges \n",
    "g.V().limit(2) \\\n",
    ".project('v','e') \\\n",
    ".by(__.id()).by(__.coalesce(__.outE().limit(1).constant(True),__.constant(False))).toList()"
   ]
  },
  {
   "cell_type": "code",
   "execution_count": 6,
   "metadata": {},
   "outputs": [
    {
     "data": {
      "text/plain": [
       "[path[<Node:airport id=\"4112\" date= country=US code=BNA longest=11030 city=Nashville author= lon=-86.6781997680664 type=airport elev=599 icao=KBNA region=US-TN runways=4 lat=36.1245002746582 desc=Nashville International Airport >, <RelationShip:route id=\"1q802-368-f11-38o\" 4112:airport -> route -> 4200:airport dist=630 >, <Node:airport id=\"4200\" date= country=US code=DFW longest=13401 city=Dallas author= lon=-97.0380020141602 type=airport elev=607 icao=KDFW region=US-TX runways=7 lat=32.896800994873 desc=Dallas/Fort Worth International Airport >],\n",
       " path[<Node:airport id=\"4112\" date= country=US code=BNA longest=11030 city=Nashville author= lon=-86.6781997680664 type=airport elev=599 icao=KBNA region=US-TN runways=4 lat=36.1245002746582 desc=Nashville International Airport >, <RelationShip:route id=\"1q96q-368-f11-38w\" 4112:airport -> route -> 4208:airport dist=657 >, <Node:airport id=\"4208\" date= country=US code=IAH longest=12001 city=Houston author= lon=-95.3414001464844 type=airport elev=96 icao=KIAH region=US-TX runways=5 lat=29.9843997955322 desc=George Bush Intercontinental >],\n",
       " path[<Node:airport id=\"4112\" date= country=US code=BNA longest=11030 city=Nashville author= lon=-86.6781997680664 type=airport elev=599 icao=KBNA region=US-TN runways=4 lat=36.1245002746582 desc=Nashville International Airport >, <RelationShip:route id=\"1qebm-368-f11-394\" 4112:airport -> route -> 4216:airport dist=1746 >, <Node:airport id=\"4216\" date= country=US code=SAN longest=9400 city=San Diego author= lon=-117.190002441 type=airport elev=16 icao=KSAN region=US-CA runways=1 lat=32.7336006165 desc=San Diego Lindbergh >],\n",
       " path[<Node:airport id=\"4112\" date= country=US code=BNA longest=11030 city=Nashville author= lon=-86.6781997680664 type=airport elev=599 icao=KBNA region=US-TN runways=4 lat=36.1245002746582 desc=Nashville International Airport >, <RelationShip:route id=\"1q6f6-368-f11-39k\" 4112:airport -> route -> 4232:airport dist=755 >, <Node:airport id=\"4232\" date= country=US code=AUS longest=12250 city=Austin author= lon=-97.6698989868164 type=airport elev=542 icao=KAUS region=US-TX runways=2 lat=30.1944999694824 desc=Austin Bergstrom International Airport >],\n",
       " path[<Node:airport id=\"4112\" date= country=US code=BNA longest=11030 city=Nashville author= lon=-86.6781997680664 type=airport elev=599 icao=KBNA region=US-TN runways=4 lat=36.1245002746582 desc=Nashville International Airport >, <RelationShip:route id=\"1qade-368-f11-3bc\" 4112:airport -> route -> 4296:airport dist=762 >, <Node:airport id=\"4296\" date= country=US code=LGA longest=7003 city=New York author= lon=-73.87259674 type=airport elev=20 icao=KLGA region=US-NY runways=2 lat=40.77719879 desc=New York La Guardia >]]"
      ]
     },
     "execution_count": 6,
     "metadata": {},
     "output_type": "execute_result"
    }
   ],
   "source": [
    "# get all outE relationships of Npde\n",
    "g.V().hasId(4112).has('code', 'BNA').outE().inV().path().by(__.elementMap()).limit(5).toList()"
   ]
  },
  {
   "cell_type": "code",
   "execution_count": 7,
   "metadata": {},
   "outputs": [
    {
     "data": {
      "text/plain": [
       "[{'n': <Node:airport id=\"4112\" date= country=US code=BNA longest=11030 city=Nashville author= lon=-86.6781997680664 type=airport elev=599 icao=KBNA region=US-TN runways=4 lat=36.1245002746582 desc=Nashville International Airport >,\n",
       "  'v': <RelationShip:route id=\"1q802-368-f11-38o\" 4112:airport -> route -> 4200:airport dist=630 >,\n",
       "  'e': <Node:airport id=\"4200\" date= country=US code=DFW longest=13401 city=Dallas author= lon=-97.0380020141602 type=airport elev=607 icao=KDFW region=US-TX runways=7 lat=32.896800994873 desc=Dallas/Fort Worth International Airport >},\n",
       " {'n': <Node:airport id=\"4112\" date= country=US code=BNA longest=11030 city=Nashville author= lon=-86.6781997680664 type=airport elev=599 icao=KBNA region=US-TN runways=4 lat=36.1245002746582 desc=Nashville International Airport >,\n",
       "  'v': <RelationShip:route id=\"1q96q-368-f11-38w\" 4112:airport -> route -> 4208:airport dist=657 >,\n",
       "  'e': <Node:airport id=\"4208\" date= country=US code=IAH longest=12001 city=Houston author= lon=-95.3414001464844 type=airport elev=96 icao=KIAH region=US-TX runways=5 lat=29.9843997955322 desc=George Bush Intercontinental >}]"
      ]
     },
     "execution_count": 7,
     "metadata": {},
     "output_type": "execute_result"
    }
   ],
   "source": [
    "# get all outE relationships of Npde\n",
    "g.V().hasId(4112).as_(\"n\").outE() \\\n",
    ".project('n','v','e') \\\n",
    ".by(__.select(\"n\")) \\\n",
    ".by() \\\n",
    ".by(__.otherV()).limit(2).toList()"
   ]
  },
  {
   "cell_type": "markdown",
   "metadata": {},
   "source": []
  },
  {
   "cell_type": "code",
   "execution_count": 73,
   "metadata": {},
   "outputs": [
    {
     "data": {
      "text/plain": [
       "382"
      ]
     },
     "execution_count": 73,
     "metadata": {},
     "output_type": "execute_result"
    }
   ],
   "source": [
    "# filter by traversal conditions: relationships count\n",
    "# g.V().hasLabel('airport').where(__.outE().count().is_(P.lt(1))).count().next()\n",
    "g.V().hasLabel('airport').where(\n",
    "    __.and_(\n",
    "        __.outE().count().is_(P.gte(10)),\n",
    "        __.outE().count().is_(P.lte(20))\n",
    "    )\n",
    ").count().next()\n"
   ]
  },
  {
   "cell_type": "code",
   "execution_count": 61,
   "metadata": {},
   "outputs": [
    {
     "data": {
      "text/plain": [
       "[{'v': 143376, 'e': 1},\n",
       " {'v': 303120, 'e': 1},\n",
       " {'v': 307216, 'e': 1},\n",
       " {'v': 335888, 'e': 1},\n",
       " {'v': 376848, 'e': 1},\n",
       " {'v': 385040, 'e': 1},\n",
       " {'v': 417808, 'e': 1},\n",
       " {'v': 430096, 'e': 1},\n",
       " {'v': 438288, 'e': 1},\n",
       " {'v': 446480, 'e': 1}]"
      ]
     },
     "execution_count": 61,
     "metadata": {},
     "output_type": "execute_result"
    }
   ],
   "source": [
    "# get vertices, ordered by __.outE (desc)\n",
    "\n",
    "g.V() \\\n",
    ".project('v','e') \\\n",
    ".by(__.id()) \\\n",
    ".by( \n",
    "    __.outE().count().is_(P.lt(2))\n",
    ")\\\n",
    ".order().by(\"e\", Order.desc) \\\n",
    ".limit(10).select(\"v\", \"e\").toList()\n"
   ]
  },
  {
   "cell_type": "code",
   "execution_count": 69,
   "metadata": {},
   "outputs": [
    {
     "ename": "GremlinServerError",
     "evalue": "599: Could not locate exact method given the supplied arguments: DefaultGraphTraversal.outE(DefaultGraphTraversal)",
     "output_type": "error",
     "traceback": [
      "\u001b[0;31m---------------------------------------------------------------------------\u001b[0m",
      "\u001b[0;31mGremlinServerError\u001b[0m                        Traceback (most recent call last)",
      "\u001b[1;32m/Users/ravi.merugu/Projects/invana/query-builder/notebook.ipynb Cell 11\u001b[0m line \u001b[0;36m1\n\u001b[1;32m      <a href='vscode-notebook-cell:/Users/ravi.merugu/Projects/invana/query-builder/notebook.ipynb#X13sZmlsZQ%3D%3D?line=0'>1</a>\u001b[0m \u001b[39m# get vertices, ordered by __.outE (desc)\u001b[39;00m\n\u001b[1;32m      <a href='vscode-notebook-cell:/Users/ravi.merugu/Projects/invana/query-builder/notebook.ipynb#X13sZmlsZQ%3D%3D?line=2'>3</a>\u001b[0m g\u001b[39m.\u001b[39;49mV() \\\n\u001b[1;32m      <a href='vscode-notebook-cell:/Users/ravi.merugu/Projects/invana/query-builder/notebook.ipynb#X13sZmlsZQ%3D%3D?line=3'>4</a>\u001b[0m \u001b[39m.\u001b[39;49mproject(\u001b[39m'\u001b[39;49m\u001b[39mv\u001b[39;49m\u001b[39m'\u001b[39;49m,\u001b[39m'\u001b[39;49m\u001b[39me\u001b[39;49m\u001b[39m'\u001b[39;49m) \\\n\u001b[1;32m      <a href='vscode-notebook-cell:/Users/ravi.merugu/Projects/invana/query-builder/notebook.ipynb#X13sZmlsZQ%3D%3D?line=4'>5</a>\u001b[0m \u001b[39m.\u001b[39;49mby(__\u001b[39m.\u001b[39;49mid()) \\\n\u001b[1;32m      <a href='vscode-notebook-cell:/Users/ravi.merugu/Projects/invana/query-builder/notebook.ipynb#X13sZmlsZQ%3D%3D?line=5'>6</a>\u001b[0m \u001b[39m.\u001b[39;49mby(\n\u001b[1;32m      <a href='vscode-notebook-cell:/Users/ravi.merugu/Projects/invana/query-builder/notebook.ipynb#X13sZmlsZQ%3D%3D?line=6'>7</a>\u001b[0m     __\u001b[39m.\u001b[39;49moutE(\n\u001b[1;32m      <a href='vscode-notebook-cell:/Users/ravi.merugu/Projects/invana/query-builder/notebook.ipynb#X13sZmlsZQ%3D%3D?line=7'>8</a>\u001b[0m         __\u001b[39m.\u001b[39;49mwhere(\n\u001b[1;32m      <a href='vscode-notebook-cell:/Users/ravi.merugu/Projects/invana/query-builder/notebook.ipynb#X13sZmlsZQ%3D%3D?line=8'>9</a>\u001b[0m             __\u001b[39m.\u001b[39;49mand_(\n\u001b[1;32m     <a href='vscode-notebook-cell:/Users/ravi.merugu/Projects/invana/query-builder/notebook.ipynb#X13sZmlsZQ%3D%3D?line=9'>10</a>\u001b[0m                 __\u001b[39m.\u001b[39;49mcount()\u001b[39m.\u001b[39;49mis_(P\u001b[39m.\u001b[39;49mlt(\u001b[39m4\u001b[39;49m)),\n\u001b[1;32m     <a href='vscode-notebook-cell:/Users/ravi.merugu/Projects/invana/query-builder/notebook.ipynb#X13sZmlsZQ%3D%3D?line=10'>11</a>\u001b[0m                 __\u001b[39m.\u001b[39;49mcount()\u001b[39m.\u001b[39;49mis_(P\u001b[39m.\u001b[39;49mgt(\u001b[39m2\u001b[39;49m))\n\u001b[1;32m     <a href='vscode-notebook-cell:/Users/ravi.merugu/Projects/invana/query-builder/notebook.ipynb#X13sZmlsZQ%3D%3D?line=11'>12</a>\u001b[0m             )\n\u001b[1;32m     <a href='vscode-notebook-cell:/Users/ravi.merugu/Projects/invana/query-builder/notebook.ipynb#X13sZmlsZQ%3D%3D?line=12'>13</a>\u001b[0m         )\n\u001b[1;32m     <a href='vscode-notebook-cell:/Users/ravi.merugu/Projects/invana/query-builder/notebook.ipynb#X13sZmlsZQ%3D%3D?line=13'>14</a>\u001b[0m     )\n\u001b[1;32m     <a href='vscode-notebook-cell:/Users/ravi.merugu/Projects/invana/query-builder/notebook.ipynb#X13sZmlsZQ%3D%3D?line=14'>15</a>\u001b[0m )\\\n\u001b[1;32m     <a href='vscode-notebook-cell:/Users/ravi.merugu/Projects/invana/query-builder/notebook.ipynb#X13sZmlsZQ%3D%3D?line=15'>16</a>\u001b[0m \u001b[39m.\u001b[39;49morder()\u001b[39m.\u001b[39;49mby(\u001b[39m\"\u001b[39;49m\u001b[39me\u001b[39;49m\u001b[39m\"\u001b[39;49m, Order\u001b[39m.\u001b[39;49mdesc) \\\n\u001b[0;32m---> <a href='vscode-notebook-cell:/Users/ravi.merugu/Projects/invana/query-builder/notebook.ipynb#X13sZmlsZQ%3D%3D?line=16'>17</a>\u001b[0m \u001b[39m.\u001b[39;49mlimit(\u001b[39m10\u001b[39;49m)\u001b[39m.\u001b[39;49mselect(\u001b[39m\"\u001b[39;49m\u001b[39mv\u001b[39;49m\u001b[39m\"\u001b[39;49m, \u001b[39m\"\u001b[39;49m\u001b[39me\u001b[39;49m\u001b[39m\"\u001b[39;49m)\u001b[39m.\u001b[39;49mtoList()\n",
      "File \u001b[0;32m~/.local/share/virtualenvs/query-builder-EE7shD6S/lib/python3.12/site-packages/gremlin_python/process/traversal.py:57\u001b[0m, in \u001b[0;36mTraversal.toList\u001b[0;34m(self)\u001b[0m\n\u001b[1;32m     56\u001b[0m \u001b[39mdef\u001b[39;00m \u001b[39mtoList\u001b[39m(\u001b[39mself\u001b[39m):\n\u001b[0;32m---> 57\u001b[0m     \u001b[39mreturn\u001b[39;00m \u001b[39mlist\u001b[39;49m(\u001b[39miter\u001b[39;49m(\u001b[39mself\u001b[39;49m))\n",
      "File \u001b[0;32m~/.local/share/virtualenvs/query-builder-EE7shD6S/lib/python3.12/site-packages/gremlin_python/process/traversal.py:47\u001b[0m, in \u001b[0;36mTraversal.__next__\u001b[0;34m(self)\u001b[0m\n\u001b[1;32m     45\u001b[0m \u001b[39mdef\u001b[39;00m \u001b[39m__next__\u001b[39m(\u001b[39mself\u001b[39m):\n\u001b[1;32m     46\u001b[0m     \u001b[39mif\u001b[39;00m \u001b[39mself\u001b[39m\u001b[39m.\u001b[39mtraversers \u001b[39mis\u001b[39;00m \u001b[39mNone\u001b[39;00m:\n\u001b[0;32m---> 47\u001b[0m         \u001b[39mself\u001b[39;49m\u001b[39m.\u001b[39;49mtraversal_strategies\u001b[39m.\u001b[39;49mapply_strategies(\u001b[39mself\u001b[39;49m)\n\u001b[1;32m     48\u001b[0m     \u001b[39mif\u001b[39;00m \u001b[39mself\u001b[39m\u001b[39m.\u001b[39mlast_traverser \u001b[39mis\u001b[39;00m \u001b[39mNone\u001b[39;00m:\n\u001b[1;32m     49\u001b[0m         \u001b[39mself\u001b[39m\u001b[39m.\u001b[39mlast_traverser \u001b[39m=\u001b[39m \u001b[39mnext\u001b[39m(\u001b[39mself\u001b[39m\u001b[39m.\u001b[39mtraversers)\n",
      "File \u001b[0;32m~/.local/share/virtualenvs/query-builder-EE7shD6S/lib/python3.12/site-packages/gremlin_python/process/traversal.py:548\u001b[0m, in \u001b[0;36mTraversalStrategies.apply_strategies\u001b[0;34m(self, traversal)\u001b[0m\n\u001b[1;32m    546\u001b[0m \u001b[39mdef\u001b[39;00m \u001b[39mapply_strategies\u001b[39m(\u001b[39mself\u001b[39m, traversal):\n\u001b[1;32m    547\u001b[0m     \u001b[39mfor\u001b[39;00m traversal_strategy \u001b[39min\u001b[39;00m \u001b[39mself\u001b[39m\u001b[39m.\u001b[39mtraversal_strategies:\n\u001b[0;32m--> 548\u001b[0m         traversal_strategy\u001b[39m.\u001b[39;49mapply(traversal)\n",
      "File \u001b[0;32m~/.local/share/virtualenvs/query-builder-EE7shD6S/lib/python3.12/site-packages/gremlin_python/driver/remote_connection.py:63\u001b[0m, in \u001b[0;36mRemoteStrategy.apply\u001b[0;34m(self, traversal)\u001b[0m\n\u001b[1;32m     61\u001b[0m \u001b[39mdef\u001b[39;00m \u001b[39mapply\u001b[39m(\u001b[39mself\u001b[39m, traversal):\n\u001b[1;32m     62\u001b[0m     \u001b[39mif\u001b[39;00m traversal\u001b[39m.\u001b[39mtraversers \u001b[39mis\u001b[39;00m \u001b[39mNone\u001b[39;00m:\n\u001b[0;32m---> 63\u001b[0m         remote_traversal \u001b[39m=\u001b[39m \u001b[39mself\u001b[39;49m\u001b[39m.\u001b[39;49mremote_connection\u001b[39m.\u001b[39;49msubmit(traversal\u001b[39m.\u001b[39;49mbytecode)\n\u001b[1;32m     64\u001b[0m         traversal\u001b[39m.\u001b[39mremote_results \u001b[39m=\u001b[39m remote_traversal\n\u001b[1;32m     65\u001b[0m         traversal\u001b[39m.\u001b[39mtraversers \u001b[39m=\u001b[39m remote_traversal\u001b[39m.\u001b[39mtraversers\n",
      "File \u001b[0;32m~/.local/share/virtualenvs/query-builder-EE7shD6S/lib/python3.12/site-packages/gremlin_python/driver/driver_remote_connection.py:60\u001b[0m, in \u001b[0;36mDriverRemoteConnection.submit\u001b[0;34m(self, bytecode)\u001b[0m\n\u001b[1;32m     58\u001b[0m \u001b[39mdef\u001b[39;00m \u001b[39msubmit\u001b[39m(\u001b[39mself\u001b[39m, bytecode):\n\u001b[1;32m     59\u001b[0m     result_set \u001b[39m=\u001b[39m \u001b[39mself\u001b[39m\u001b[39m.\u001b[39m_client\u001b[39m.\u001b[39msubmit(bytecode, request_options\u001b[39m=\u001b[39m\u001b[39mself\u001b[39m\u001b[39m.\u001b[39m_extract_request_options(bytecode))\n\u001b[0;32m---> 60\u001b[0m     results \u001b[39m=\u001b[39m result_set\u001b[39m.\u001b[39;49mall()\u001b[39m.\u001b[39;49mresult()\n\u001b[1;32m     61\u001b[0m     \u001b[39mreturn\u001b[39;00m RemoteTraversal(\u001b[39miter\u001b[39m(results))\n",
      "File \u001b[0;32m/opt/homebrew/Cellar/python@3.12/3.12.0/Frameworks/Python.framework/Versions/3.12/lib/python3.12/concurrent/futures/_base.py:456\u001b[0m, in \u001b[0;36mFuture.result\u001b[0;34m(self, timeout)\u001b[0m\n\u001b[1;32m    454\u001b[0m     \u001b[39mraise\u001b[39;00m CancelledError()\n\u001b[1;32m    455\u001b[0m \u001b[39melif\u001b[39;00m \u001b[39mself\u001b[39m\u001b[39m.\u001b[39m_state \u001b[39m==\u001b[39m FINISHED:\n\u001b[0;32m--> 456\u001b[0m     \u001b[39mreturn\u001b[39;00m \u001b[39mself\u001b[39;49m\u001b[39m.\u001b[39;49m__get_result()\n\u001b[1;32m    457\u001b[0m \u001b[39melse\u001b[39;00m:\n\u001b[1;32m    458\u001b[0m     \u001b[39mraise\u001b[39;00m \u001b[39mTimeoutError\u001b[39;00m()\n",
      "File \u001b[0;32m/opt/homebrew/Cellar/python@3.12/3.12.0/Frameworks/Python.framework/Versions/3.12/lib/python3.12/concurrent/futures/_base.py:401\u001b[0m, in \u001b[0;36mFuture.__get_result\u001b[0;34m(self)\u001b[0m\n\u001b[1;32m    399\u001b[0m \u001b[39mif\u001b[39;00m \u001b[39mself\u001b[39m\u001b[39m.\u001b[39m_exception:\n\u001b[1;32m    400\u001b[0m     \u001b[39mtry\u001b[39;00m:\n\u001b[0;32m--> 401\u001b[0m         \u001b[39mraise\u001b[39;00m \u001b[39mself\u001b[39m\u001b[39m.\u001b[39m_exception\n\u001b[1;32m    402\u001b[0m     \u001b[39mfinally\u001b[39;00m:\n\u001b[1;32m    403\u001b[0m         \u001b[39m# Break a reference cycle with the exception in self._exception\u001b[39;00m\n\u001b[1;32m    404\u001b[0m         \u001b[39mself\u001b[39m \u001b[39m=\u001b[39m \u001b[39mNone\u001b[39;00m\n",
      "File \u001b[0;32m~/.local/share/virtualenvs/query-builder-EE7shD6S/lib/python3.12/site-packages/gremlin_python/driver/resultset.py:90\u001b[0m, in \u001b[0;36mResultSet.all.<locals>.cb\u001b[0;34m(f)\u001b[0m\n\u001b[1;32m     88\u001b[0m \u001b[39mdef\u001b[39;00m \u001b[39mcb\u001b[39m(f):\n\u001b[1;32m     89\u001b[0m     \u001b[39mtry\u001b[39;00m:\n\u001b[0;32m---> 90\u001b[0m         f\u001b[39m.\u001b[39;49mresult()\n\u001b[1;32m     91\u001b[0m     \u001b[39mexcept\u001b[39;00m \u001b[39mException\u001b[39;00m \u001b[39mas\u001b[39;00m e:\n\u001b[1;32m     92\u001b[0m         future\u001b[39m.\u001b[39mset_exception(e)\n",
      "File \u001b[0;32m/opt/homebrew/Cellar/python@3.12/3.12.0/Frameworks/Python.framework/Versions/3.12/lib/python3.12/concurrent/futures/_base.py:449\u001b[0m, in \u001b[0;36mFuture.result\u001b[0;34m(self, timeout)\u001b[0m\n\u001b[1;32m    447\u001b[0m     \u001b[39mraise\u001b[39;00m CancelledError()\n\u001b[1;32m    448\u001b[0m \u001b[39melif\u001b[39;00m \u001b[39mself\u001b[39m\u001b[39m.\u001b[39m_state \u001b[39m==\u001b[39m FINISHED:\n\u001b[0;32m--> 449\u001b[0m     \u001b[39mreturn\u001b[39;00m \u001b[39mself\u001b[39;49m\u001b[39m.\u001b[39;49m__get_result()\n\u001b[1;32m    451\u001b[0m \u001b[39mself\u001b[39m\u001b[39m.\u001b[39m_condition\u001b[39m.\u001b[39mwait(timeout)\n\u001b[1;32m    453\u001b[0m \u001b[39mif\u001b[39;00m \u001b[39mself\u001b[39m\u001b[39m.\u001b[39m_state \u001b[39min\u001b[39;00m [CANCELLED, CANCELLED_AND_NOTIFIED]:\n",
      "File \u001b[0;32m/opt/homebrew/Cellar/python@3.12/3.12.0/Frameworks/Python.framework/Versions/3.12/lib/python3.12/concurrent/futures/_base.py:401\u001b[0m, in \u001b[0;36mFuture.__get_result\u001b[0;34m(self)\u001b[0m\n\u001b[1;32m    399\u001b[0m \u001b[39mif\u001b[39;00m \u001b[39mself\u001b[39m\u001b[39m.\u001b[39m_exception:\n\u001b[1;32m    400\u001b[0m     \u001b[39mtry\u001b[39;00m:\n\u001b[0;32m--> 401\u001b[0m         \u001b[39mraise\u001b[39;00m \u001b[39mself\u001b[39m\u001b[39m.\u001b[39m_exception\n\u001b[1;32m    402\u001b[0m     \u001b[39mfinally\u001b[39;00m:\n\u001b[1;32m    403\u001b[0m         \u001b[39m# Break a reference cycle with the exception in self._exception\u001b[39;00m\n\u001b[1;32m    404\u001b[0m         \u001b[39mself\u001b[39m \u001b[39m=\u001b[39m \u001b[39mNone\u001b[39;00m\n",
      "File \u001b[0;32m/opt/homebrew/Cellar/python@3.12/3.12.0/Frameworks/Python.framework/Versions/3.12/lib/python3.12/concurrent/futures/thread.py:58\u001b[0m, in \u001b[0;36m_WorkItem.run\u001b[0;34m(self)\u001b[0m\n\u001b[1;32m     55\u001b[0m     \u001b[39mreturn\u001b[39;00m\n\u001b[1;32m     57\u001b[0m \u001b[39mtry\u001b[39;00m:\n\u001b[0;32m---> 58\u001b[0m     result \u001b[39m=\u001b[39m \u001b[39mself\u001b[39;49m\u001b[39m.\u001b[39;49mfn(\u001b[39m*\u001b[39;49m\u001b[39mself\u001b[39;49m\u001b[39m.\u001b[39;49margs, \u001b[39m*\u001b[39;49m\u001b[39m*\u001b[39;49m\u001b[39mself\u001b[39;49m\u001b[39m.\u001b[39;49mkwargs)\n\u001b[1;32m     59\u001b[0m \u001b[39mexcept\u001b[39;00m \u001b[39mBaseException\u001b[39;00m \u001b[39mas\u001b[39;00m exc:\n\u001b[1;32m     60\u001b[0m     \u001b[39mself\u001b[39m\u001b[39m.\u001b[39mfuture\u001b[39m.\u001b[39mset_exception(exc)\n",
      "File \u001b[0;32m~/.local/share/virtualenvs/query-builder-EE7shD6S/lib/python3.12/site-packages/gremlin_python/driver/connection.py:83\u001b[0m, in \u001b[0;36mConnection._receive\u001b[0;34m(self)\u001b[0m\n\u001b[1;32m     81\u001b[0m \u001b[39mwhile\u001b[39;00m \u001b[39mTrue\u001b[39;00m:\n\u001b[1;32m     82\u001b[0m     data \u001b[39m=\u001b[39m \u001b[39mself\u001b[39m\u001b[39m.\u001b[39m_transport\u001b[39m.\u001b[39mread()\n\u001b[0;32m---> 83\u001b[0m     status_code \u001b[39m=\u001b[39m \u001b[39mself\u001b[39;49m\u001b[39m.\u001b[39;49m_protocol\u001b[39m.\u001b[39;49mdata_received(data, \u001b[39mself\u001b[39;49m\u001b[39m.\u001b[39;49m_results)\n\u001b[1;32m     84\u001b[0m     \u001b[39mif\u001b[39;00m status_code \u001b[39m!=\u001b[39m \u001b[39m206\u001b[39m:\n\u001b[1;32m     85\u001b[0m         \u001b[39mbreak\u001b[39;00m\n",
      "File \u001b[0;32m~/.local/share/virtualenvs/query-builder-EE7shD6S/lib/python3.12/site-packages/gremlin_python/driver/protocol.py:131\u001b[0m, in \u001b[0;36mGremlinServerWSProtocol.data_received\u001b[0;34m(self, message, results_dict)\u001b[0m\n\u001b[1;32m    129\u001b[0m \u001b[39melse\u001b[39;00m:\n\u001b[1;32m    130\u001b[0m     \u001b[39mdel\u001b[39;00m results_dict[request_id]\n\u001b[0;32m--> 131\u001b[0m     \u001b[39mraise\u001b[39;00m GremlinServerError(message[\u001b[39m'\u001b[39m\u001b[39mstatus\u001b[39m\u001b[39m'\u001b[39m])\n",
      "\u001b[0;31mGremlinServerError\u001b[0m: 599: Could not locate exact method given the supplied arguments: DefaultGraphTraversal.outE(DefaultGraphTraversal)"
     ]
    }
   ],
   "source": [
    "# get vertices, ordered by __.outE (desc)\n",
    "\n",
    "g.V() \\\n",
    ".project('v','e') \\\n",
    ".by(__.id()) \\\n",
    ".by(\n",
    "    __.outE(\n",
    "        __.where(\n",
    "            __.and_(\n",
    "                __.count().is_(P.lt(4)),\n",
    "                __.count().is_(P.gt(2))\n",
    "            )\n",
    "        )\n",
    "    )\n",
    ")\\\n",
    ".order().by(\"e\", Order.desc) \\\n",
    ".limit(10).select(\"v\", \"e\").toList()"
   ]
  }
 ],
 "metadata": {
  "kernelspec": {
   "display_name": "query-builder-EE7shD6S",
   "language": "python",
   "name": "python3"
  },
  "language_info": {
   "codemirror_mode": {
    "name": "ipython",
    "version": 3
   },
   "file_extension": ".py",
   "mimetype": "text/x-python",
   "name": "python",
   "nbconvert_exporter": "python",
   "pygments_lexer": "ipython3",
   "version": "3.12.0"
  }
 },
 "nbformat": 4,
 "nbformat_minor": 2
}
